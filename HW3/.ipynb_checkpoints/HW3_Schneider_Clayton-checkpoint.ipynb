{
 "cells": [
  {
   "cell_type": "markdown",
   "metadata": {},
   "source": [
    "<a id='top'></a>\n",
    "\n",
    "# CSCI3022 S21\n",
    "# Homework 3: Probability and Simulations\n",
    "***\n",
    "\n",
    "**Name**: Clayton Schneider\n",
    "\n",
    "***\n",
    "\n",
    "This assignment is due on Canvas by **MIDNIGHT on Monday, February 22**. Your solutions to theoretical questions should be done in Markdown directly below the associated question.  Your solutions to computational questions should include any specified Python code and results as well as written commentary on your conclusions.  Remember that you are encouraged to discuss the problems with your classmates, but **you must write all code and solutions on your own**.\n",
    "\n",
    "**NOTES**: \n",
    "\n",
    "- Any relevant data sets should be available on Canvas. To make life easier on the graders if they need to run your code, do not change the relative path names here. Instead, move the files around on your computer.\n",
    "- If you're not familiar with typesetting math directly into Markdown then by all means, do your work on paper first and then typeset it later.  Here is a [reference guide](https://math.meta.stackexchange.com/questions/5020/mathjax-basic-tutorial-and-quick-reference) linked on Canvas on writing math in Markdown. **All** of your written commentary, justifications and mathematical work should be in Markdown.  I also recommend the [wikibook](https://en.wikibooks.org/wiki/LaTeX) for LaTex.\n",
    "- Because you can technically evaluate notebook cells is a non-linear order, it's a good idea to do **Kernel $\\rightarrow$ Restart & Run All** as a check before submitting your solutions.  That way if we need to run your code you will know that it will work as expected. \n",
    "- It is **bad form** to make your reader interpret numerical output from your code.  If a question asks you to compute some value from the data you should show your code output **AND** write a summary of the results in Markdown directly below your code. \n",
    "- 95 points of this assignment are in problems.  The remaining 5 are for neatness, style, and overall exposition of both code and text.\n",
    "- This probably goes without saying, but... For any question that asks you to calculate something, you **must show all work and justify your answers to receive credit**. Sparse or nonexistent work will receive sparse or nonexistent credit. \n",
    "\n",
    "---\n",
    "**Shortcuts:**  [Problem 1](#p1) | [Problem 2](#p2) | [Problem 3](#p3) |\n",
    "---"
   ]
  },
  {
   "cell_type": "code",
   "execution_count": 1,
   "metadata": {},
   "outputs": [],
   "source": [
    "import pandas as pd\n",
    "import numpy as np\n",
    "import matplotlib.pylab as plt\n",
    "%matplotlib inline\n",
    "\n",
    "import random"
   ]
  },
  {
   "cell_type": "markdown",
   "metadata": {},
   "source": [
    "[Back to top](#top)\n",
    "\n",
    "<a id='p1'></a>\n",
    "\n",
    "## (25 pts) Problem 1 (Simulation): Let's play some \"games\"!\n",
    "***\n",
    "\n",
    "One of the big payoffs of simulation is that it can let us answer some probability questions that are otherwise quite difficult.  We can instead just simulate the process and get approximate results based on simulation.\n",
    "\n"
   ]
  },
  {
   "cell_type": "markdown",
   "metadata": {},
   "source": [
    "***\n",
    "### A) Poker... pen-and-paper\n",
    "Game number 1... is Poker!\n",
    "\n",
    "A common example for discrete counting and probability questions are poker hands.  Consider using a standard 52-card playing deck, with card faces `[A,2,3,4,5,6,7,8,9,10,J,Q,K]` across the standard 4 suits: `[C,D,H,S]`.\n",
    "\n",
    "Suppose we draw 5 cards at random from the deck.  What is the exact probability that we have a \"full house:\" a hand with 3 copies of one card face type (of any suits) and the other two cards matches of a different card face type (of any suits)?  Typeset your work below.  You may leave your answer in terms of a ratio of products, but you should simplify away any combinatoric notation such as ${n \\choose k}$ or $P(n,k)$.\n"
   ]
  },
  {
   "cell_type": "markdown",
   "metadata": {},
   "source": [
    "$$ {13 \\choose 2} * {2 \\choose 1}{4 \\choose 3} * {1 \\choose 1}{4 \\choose 2} \\div {52 \\choose 5} $$\n",
    "\n",
    "$$ = \\frac{13!}{2!11!} * {\\frac{2!}{1!1!}}{\\frac{4!}{3!1!}} * {\\frac{1!}{1!}}{\\frac{4!}{2!2!}} \\div {\\frac{52!}{5!47!}} $$\n",
    "\n",
    "$$ = \\frac{13*12}{2} * 2(4) * 1(6) \\div (\\frac{52*51*50*49*48}{5*4*3*2*1})$$\n",
    "\n",
    "$$ = 13*12*4*6 \\div 2598960 \\approx 0.00144 $$"
   ]
  },
  {
   "cell_type": "markdown",
   "metadata": {},
   "source": [
    "***\n",
    "### B) Poker with computers!\n",
    "\n",
    "Write a simulation that draws a hand of 5 cards from a standard 52-card deck. Repeat this simulation 10000 times, and report how many \"full house\" hands were observed. Verify that the result is consistent with your answer to part A.\n",
    "\n",
    "NB: The function `np.unique` can make checking hands easier.  Your actual simulation should have 52 distinct cards, even if we're only using the faces (and not suits) for the check of full house."
   ]
  },
  {
   "cell_type": "code",
   "execution_count": 2,
   "metadata": {},
   "outputs": [
    {
     "name": "stdout",
     "output_type": "stream",
     "text": [
      "0.0009\n"
     ]
    }
   ],
   "source": [
    "values = ['A', 2, 3, 4, 5, 6, 7, 8, 9, 10, 'J', 'Q', 'K']\n",
    "suits = ['C', 'H', 'S', 'D']\n",
    "\n",
    "class Card():\n",
    "    def __init__(self, value, suit):\n",
    "        self.value = value\n",
    "        self.suit = suit\n",
    "\n",
    "deck = []\n",
    "for val in values:\n",
    "    for suit in suits:\n",
    "        deck.append(Card(val, suit)) \n",
    "deck = np.array(deck)\n",
    "        \n",
    "        \n",
    "def draw_hand(deck, n_cards):\n",
    "    return np.random.choice(deck, size=n_cards, replace=False)\n",
    "        \n",
    "n_reps = 10000\n",
    "houses = 0\n",
    "for i in range(n_reps):\n",
    "    hand = draw_hand(deck, 5)\n",
    "    vals = np.unique([card.value for card in hand])\n",
    "    if len(vals) == 2:\n",
    "        counts = []\n",
    "        for val in vals:\n",
    "            counts.append(0)\n",
    "            for card in hand:\n",
    "                if card.value == val:\n",
    "                    counts[-1] += 1\n",
    "        counts.sort()\n",
    "        if counts == [2, 3]:\n",
    "            houses += 1\n",
    "            \n",
    "print(houses / n_reps)"
   ]
  },
  {
   "cell_type": "markdown",
   "metadata": {},
   "source": [
    "The Riddler is a column on the website https://fivethirtyeight.com that posts logic, math, and probability puzzles each week.  Some of puzzles can be attacked by simulation and discrete probability: things that we have the tools to solve!\n",
    "\n",
    "Parts C/Eare former Riddler prompts.\n",
    "\n",
    "\n",
    "***\n",
    "### C) A \"solitaire\" game\n",
    "\n",
    "On snowy afternoons, you like to play a solitaire “game” with a standard, randomly shuffled deck of 52 cards. You start dealing cards face up, one at a time, into a pile. As you deal each card, you also speak aloud, in order, the 13 card faces in a standard deck: ace, two, three, etc. (When you get to king, you start over at ace.) You keep doing this until the rank of the card you deal matches the rank you speak aloud, in which case you lose. You win if you reach the end of the deck without any matches.\n",
    "\n",
    "Set up a simulation to answer the prompt: what is the probability that you win?\n",
    "\n",
    "Note that your final result should be *close* to the value of $(12/13)^{52}$, which would be the theoretical result if each card flip was independent.  Was it higher or lower?  Does this match your intuition?"
   ]
  },
  {
   "cell_type": "code",
   "execution_count": 3,
   "metadata": {},
   "outputs": [
    {
     "name": "stdout",
     "output_type": "stream",
     "text": [
      "0.0166\n"
     ]
    }
   ],
   "source": [
    "def play_solitaire(deck, values):\n",
    "    random.shuffle(deck)\n",
    "    i = 0\n",
    "    while i < len(deck):\n",
    "        aloud = values[i % len(values)]\n",
    "        drawn = deck[i]\n",
    "        if aloud == drawn.value:\n",
    "            return 0\n",
    "        i += 1\n",
    "    return 1\n",
    "\n",
    "wins = 0\n",
    "i = 0\n",
    "for i in range(10000):\n",
    "    wins += play_solitaire(deck, values)\n",
    "    \n",
    "print(wins / 10000)"
   ]
  },
  {
   "cell_type": "markdown",
   "metadata": {},
   "source": [
    "The results of the simulation match that of the proposed probability. "
   ]
  },
  {
   "cell_type": "markdown",
   "metadata": {},
   "source": [
    "***\n",
    "### D) Random motion\n",
    "\n",
    "Suppose that all city streets follow a grid layout, running north-south and east-west. You’re driving north when you decide to play a little game. Every time you reach an intersection, you randomly turn left or right, each with a 50 percent chance.\n",
    "\n",
    "After driving through 10 intersections, what is the probability that you are still driving north?\n"
   ]
  },
  {
   "cell_type": "code",
   "execution_count": 4,
   "metadata": {},
   "outputs": [
    {
     "name": "stdout",
     "output_type": "stream",
     "text": [
      "0.501\n"
     ]
    }
   ],
   "source": [
    "def driving_game(distance):\n",
    "    heading = 0\n",
    "    for i in range(distance):\n",
    "        turn = np.random.choice([-1, 1])\n",
    "        heading += turn\n",
    "    if (heading % 4) == 0:\n",
    "        return 1\n",
    "    else:\n",
    "        return 0\n",
    "    \n",
    "wins = 0\n",
    "for i in range(10000):\n",
    "    wins += driving_game(10)\n",
    "    \n",
    "print(wins / 10000)"
   ]
  },
  {
   "cell_type": "markdown",
   "metadata": {},
   "source": [
    "P(north | ten blocks) == 0.5"
   ]
  },
  {
   "cell_type": "markdown",
   "metadata": {},
   "source": [
    "***\n",
    "### E) More Random motion\n",
    "\n",
    "Now suppose that at every intersection, there’s a one-third chance you turn left, a one-third chance you turn right and a one-third chance you drive straight. Create a set of simulations that record which direction you're driving 11 times.  \n",
    "\n",
    "It is recommended that you save the results in a data frame of the form below:\n",
    "\n",
    "| Start | T1 | T2 | T3 | ... | T10 |\n",
    "| --- | --- |\n",
    "| N | E | N | W| ... | N |\n",
    "| N | W | W | S | ... | E|\n",
    "| N | W | N | E | ... | W|\n",
    "\n",
    "then create a plot where the $x$ axis is \"numbers of turns made\" from 0 to 10, and the $y$ axis is \"probability that you're driving North.\"\n"
   ]
  },
  {
   "cell_type": "code",
   "execution_count": 5,
   "metadata": {},
   "outputs": [
    {
     "data": {
      "image/png": "[encoded data removed]",
      "text/plain": [
       "<Figure size 432x288 with 1 Axes>"
      ]
     },
     "metadata": {
      "needs_background": "light"
     },
     "output_type": "display_data"
    }
   ],
   "source": [
    "def new_driving_game(distance):\n",
    "    heading = 0\n",
    "    for i in range(distance):\n",
    "        turn = np.random.choice([-1, 0, 1])\n",
    "        heading += turn\n",
    "    if (heading % 4) == 0:\n",
    "        return 1\n",
    "    else:\n",
    "        return 0\n",
    "    \n",
    "ordered_win_rate = []\n",
    "for d in range(10):\n",
    "    wins = 0\n",
    "    for i in range(10000):\n",
    "        wins += new_driving_game(d+1)\n",
    "    ordered_win_rate.append(wins / 10000)\n",
    "\n",
    "fig1 = plt.figure(1)\n",
    "plt.plot([d+1 for d in range(10)], ordered_win_rate)\n",
    "plt.xticks([d+1 for d in range(10)])\n",
    "plt.xlabel('Distance (intersections)')\n",
    "plt.ylabel('Pr(Heading == North)')\n",
    "plt.show()"
   ]
  },
  {
   "cell_type": "markdown",
   "metadata": {},
   "source": [
    "[Back to top](#top)\n",
    "<a/ id='p2'></a>\n",
    "\n",
    "## (20 pts) Problem 2 (Simulation and Theory): Bayes and Repeated Observations\n",
    "***\n",
    "\n",
    "\n",
    "To play a game, you have a bag containing 25 fair six-sided dice, with faces `{1,2,3,4,5,6}`.  <img style=\"float: right; width: 200px; padding: 3mm;\" src=\"https://images-na.ssl-images-amazon.com/images/I/619NZnvxJaL._SX425_.jpg\" alt=\"Drawing\"/>\n",
    "This bag also contains 10 fair eight-sided dice (faces `{1,2,3,4,5,6,7,8}`) and 2 fair twenty-sided dice (faces `{1,2,3,4,...,19,20}`).  Call these 3 classes of die \"Six\", \"Eight\" and \"Twenty\" (or S, E, and T, for short). In order to be sure that you are not distinguishing dice by their feel, you are required to wear crab claw gloves. After donning your gloves, you grab one die at random from the bag. \n",
    "\n",
    "Work the following problems by hand (or claw) unless otherwise stated (but don't be afraid to simulate to check your result!). "
   ]
  },
  {
   "cell_type": "code",
   "execution_count": 6,
   "metadata": {},
   "outputs": [],
   "source": [
    "class Die():\n",
    "    def __init__(self, sides):\n",
    "        self.sides = sides\n",
    "        self.value = None\n",
    "    def roll(self):\n",
    "        self.value = np.random.choice([i for i in range(sides)])\n",
    "        return self.value"
   ]
  },
  {
   "cell_type": "markdown",
   "metadata": {},
   "source": [
    "***\n",
    "### Part A: You roll your die one time.  What is the probability of the event $R_7$, that you roll a 7?  Include at least 4 decimal places in your answer."
   ]
  },
  {
   "cell_type": "markdown",
   "metadata": {},
   "source": [
    "$$ \\frac{25}{37}*0 + \\frac{10}{37}*\\frac{1}{8} + \\frac{2}{37}*\\frac{1}{20} $$\n",
    "\n",
    "$$ = 0.03648648648 $$"
   ]
  },
  {
   "cell_type": "markdown",
   "metadata": {},
   "source": [
    "***\n",
    "### Part B: Suppose you roll a 7.  What is the probability that the die you chose from the bag is an Eight-sided die? "
   ]
  },
  {
   "cell_type": "markdown",
   "metadata": {},
   "source": [
    "$$ \\frac{10}{12} \\approx 0.833 $$"
   ]
  },
  {
   "cell_type": "markdown",
   "metadata": {},
   "source": [
    "***\n",
    "### Part C: Are the events $R_7$ and $E$ independent?  Justify your answer **using math**."
   ]
  },
  {
   "cell_type": "markdown",
   "metadata": {},
   "source": [
    "$R_7$ and $E$ are independent $iff$: $P(R_7|E) = P(R_7)$\n",
    "\n",
    "$ P(R_7) = 0.0364... $ while $ P(R_7|E) = 0.125 $\n",
    "\n",
    "$P(R_7|E) \\neq P(R_7) $\n",
    "\n",
    "So they are not independent. "
   ]
  },
  {
   "cell_type": "markdown",
   "metadata": {},
   "source": [
    "*** \n",
    "### Part D:  Suppose you roll your die $n$ times and record each outcome.  Obviously, if you roll 7 or 8 you know you did *not* pick a Six-sided die, and if you roll a 9 or higher, you must have picked a Twenty-sided die.\n",
    "\n",
    "But, if you roll $n$ times in a row and get only 1, 2, 3, 4, 5, or 6 you would have a stronger belief that you in fact grabbed one of the Six-sided dice.  Let $L_n$ be the event that you roll $n$ rolls of 1, 2, 3, 4, 5, or 6 in a row.  For example, one outcome in $L_3$ is the sequence 2, 3, 1.\n",
    "\n",
    "Given that you roll a single value of 1, 2, 3, 4, 5, or 6, what is the probability that you have grabbed a Six-sided die?  That is, calculate **by hand** $P(S \\mid L_1)$."
   ]
  },
  {
   "cell_type": "markdown",
   "metadata": {},
   "source": [
    "$$ P(S | L_1) = \\frac{P(S\\cap L_1)}{P(L_1)} $$\n",
    "\n",
    "$$ = \\frac{\\frac{25}{37}}{\\frac{6}{6}*\\frac{25}{37}+\\frac{6}{8}*\\frac{10}{37}+\\frac{6}{20}*\\frac{2}{37}} $$\n",
    "\n",
    "$$ \\approx 0.755287 $$"
   ]
  },
  {
   "cell_type": "code",
   "execution_count": 7,
   "metadata": {},
   "outputs": [],
   "source": [
    "def checking_prob(n_rolls):\n",
    "    results = []\n",
    "    for i in range(n_rolls):\n",
    "        die = np.random.choice(['S', 'E', 'T'], p=[25/37, 10/37, 2/37])\n",
    "        if die == 'S':\n",
    "            roll = np.random.choice([i+1 for i in range(6)])\n",
    "        elif die == 'E':\n",
    "            roll = np.random.choice([i+1 for i in range(8)])\n",
    "        elif die == 'T':\n",
    "            roll = np.random.choice([i+1 for i in range(20)])\n",
    "        results.append((die, roll))\n",
    "        \n",
    "    return results"
   ]
  },
  {
   "cell_type": "code",
   "execution_count": 8,
   "metadata": {},
   "outputs": [
    {
     "name": "stdout",
     "output_type": "stream",
     "text": [
      "0.7686230248306998\n"
     ]
    }
   ],
   "source": [
    "rolls = checking_prob(1000)\n",
    "dies = []\n",
    "for roll in rolls:\n",
    "    if (roll[1] >= 1) and (roll[1] <= 6):\n",
    "        dies.append(roll[0])\n",
    "        \n",
    "print(len([die for die in dies if die=='S'])/len(dies))"
   ]
  },
  {
   "cell_type": "markdown",
   "metadata": {},
   "source": [
    "***\n",
    "### Part E:  \n",
    "\n",
    "First, work out **by hand** a formula for the probability in general that you are rolling a Six-sided die, given that you have rolled $n$ values in a row that are 1, 2, 3, 4, 5 or 6 (that is, $L_n$).  So you want a formula for $P(S \\mid L_n)$ in terms of $n$.\n",
    "\n",
    "Then, define a function `prob_six` to calculate $P(S \\mid L_n)$.  This function should only take one positive integer argument, $n$.\n",
    "\n",
    "Verify that your function is performing as expected by checking your answer to **Part D**."
   ]
  },
  {
   "cell_type": "markdown",
   "metadata": {},
   "source": [
    "$$ P(S | L_n) = \\frac{P(S\\cap L_n)}{P(L_n)} $$\n",
    "\n",
    "$$ = \\frac{\\frac{25}{37}}{\\frac{6}{6}^n*\\frac{25}{37}+\\frac{6}{8}^n*\\frac{10}{37}+\\frac{6}{20}^n*\\frac{2}{37}} $$"
   ]
  },
  {
   "cell_type": "code",
   "execution_count": 9,
   "metadata": {},
   "outputs": [
    {
     "name": "stdout",
     "output_type": "stream",
     "text": [
      "0.7552870090634441\n"
     ]
    }
   ],
   "source": [
    "def prob_six(n):\n",
    "    return (25/37)/(((6/6)**n)*(25/37)+((6/8)**n)*(10/37)+((6/20)**n)*(2/37))\n",
    "\n",
    "# Verification of Part D answer:  plug in n=1\n",
    "print(prob_six(1))"
   ]
  },
  {
   "cell_type": "code",
   "execution_count": 10,
   "metadata": {},
   "outputs": [
    {
     "data": {
      "image/png": "[encoded data removed]",
      "text/plain": [
       "<Figure size 432x288 with 1 Axes>"
      ]
     },
     "metadata": {
      "needs_background": "light"
     },
     "output_type": "display_data"
    }
   ],
   "source": [
    "probs = []\n",
    "ns = [i+1 for i in range(100)]\n",
    "\n",
    "for n in ns:\n",
    "    probs.append(prob_six(n))\n",
    "    \n",
    "plt.plot(ns, probs)\n",
    "plt.xlabel('Number of Rolls in {1...6}')\n",
    "plt.ylabel('Probability of Using a 6-sided Die')\n",
    "plt.show()"
   ]
  },
  {
   "cell_type": "code",
   "execution_count": 11,
   "metadata": {},
   "outputs": [
    {
     "data": {
      "text/plain": [
       "0.9833864760023916"
      ]
     },
     "execution_count": 11,
     "metadata": {},
     "output_type": "execute_result"
    }
   ],
   "source": [
    "probs[10]"
   ]
  },
  {
   "cell_type": "markdown",
   "metadata": {},
   "source": [
    "***\n",
    "### Part F:  What is the smallest value of $n$ successive rolls of 1, 2, 3, 4, 5 or 6 that would make you believe that there's a better-than-95% chance that the die you grabbed is Six-sided?  Plugging larger and larger values for $n$ into your `prob_six` function is a very reasonable way to check this."
   ]
  },
  {
   "cell_type": "code",
   "execution_count": 12,
   "metadata": {},
   "outputs": [
    {
     "name": "stdout",
     "output_type": "stream",
     "text": [
      "9\n"
     ]
    }
   ],
   "source": [
    "i = 1\n",
    "prob = 0\n",
    "while prob <= 0.95:\n",
    "    prob = prob_six(i)\n",
    "    i += 1\n",
    "    \n",
    "print(i)"
   ]
  },
  {
   "cell_type": "code",
   "execution_count": 13,
   "metadata": {},
   "outputs": [
    {
     "name": "stdout",
     "output_type": "stream",
     "text": [
      "102\n"
     ]
    }
   ],
   "source": [
    "i = 1\n",
    "prob = 0\n",
    "while prob <= 0.9999999999999:\n",
    "    prob = prob_six(i)\n",
    "    i += 1\n",
    "    \n",
    "print(i)"
   ]
  },
  {
   "cell_type": "markdown",
   "metadata": {},
   "source": [
    "[Back to top](#top)\n",
    "<a/ id='p3'></a>\n",
    "\n",
    "## (5 pts) Problem 3 (Theory): It's probably Bayes\n",
    "***\n"
   ]
  },
  {
   "cell_type": "markdown",
   "metadata": {},
   "source": [
    "To get published in an academic journal, you have to prove something \"interesting.\"  As a result, most academics begin their research by investigating hypotheses that, all else equal, are unlikely to be true.  Suppose each research project begins with a research *hypothesis* that has a 7% chance of being correct.\n",
    "\n",
    "They then perform a study that satisfies the following two properties:\n",
    "\n",
    "    1) The probability that they correctly *find* an important result given that their *hypothesis* is true is 50%\n",
    "    2) The probability that they incorrectly *find* an important result given that their *hypothesis* is false is 5%\n",
    "\n",
    "If they *find* an important result they are published.  What is the probability that their *hypothesis* was true, given that they were published?"
   ]
  },
  {
   "cell_type": "markdown",
   "metadata": {},
   "source": [
    "This seems like an ambiguous problem, it may just be the phrasing... \n",
    "\n",
    "0.5 * 0.07 = 0.035\n",
    "vs.\n",
    "0.05 * 0.93 = 0.0465\n",
    "\n",
    "0.035 / (0.035 + 0.0465)\n",
    "\n",
    "= 0.42944785276"
   ]
  },
  {
   "cell_type": "markdown",
   "metadata": {},
   "source": [
    "[Back to top](#top)"
   ]
  }
 ],
 "metadata": {
  "kernelspec": {
   "display_name": "Python 3",
   "language": "python",
   "name": "python3"
  },
  "language_info": {
   "codemirror_mode": {
    "name": "ipython",
    "version": 3
   },
   "file_extension": ".py",
   "mimetype": "text/x-python",
   "name": "python",
   "nbconvert_exporter": "python",
   "pygments_lexer": "ipython3",
   "version": "3.8.5"
  }
 },
 "nbformat": 4,
 "nbformat_minor": 4
}
