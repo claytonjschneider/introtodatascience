{
 "cells": [
  {
   "cell_type": "markdown",
   "metadata": {},
   "source": [
    "<a id='top'></a>\n",
    "\n",
    "# CSCI3022 F20\n",
    "# Homework 1: Data Cleaning and Exploratory Data Analysis \n",
    "***\n",
    "\n",
    "**Name**: Clayton Schneider\n",
    "\n",
    "***\n",
    "\n",
    "This assignment is due on Canvas by **MIDNIGHT on Friday September 4**. Your solutions to theoretical questions should be done in Markdown directly below the associated question.  Your solutions to computational questions should include any specified Python code and results as well as written commentary on your conclusions.  Remember that you are encouraged to discuss the problems with your classmates, but **you must write all code and solutions on your own**.\n",
    "\n",
    "**NOTES**: \n",
    "\n",
    "- Any relevant data sets should be available on Canvas. To make life easier on the graders if they need to run your code, do not change the relative path names here. Instead, move the files around on your computer.\n",
    "- If you're not familiar with typesetting math directly into Markdown then by all means, do your work on paper first and then typeset it later.  Remember that there is a [reference guide](https://math.meta.stackexchange.com/questions/5020/mathjax-basic-tutorial-and-quick-reference) linked on Canvas on writing math in Markdown. **All** of your written commentary, justifications and mathematical work should be in Markdown.\n",
    "- Because you can technically evaluate notebook cells is a non-linear order, it's a good idea to do Kernel $\\rightarrow$ Restart & Run All as a check before submitting your solutions.  That way if we need to run your code you will know that it will work as expected. \n",
    "- It is **bad form** to make your reader interpret numerical output from your code.  If a question asks you to compute some value from the data you should show your code output **AND** write a summary of the results in Markdown directly below your code. \n",
    "- 95 points of this assignment are in problems.  The remaining 5 are for neatness, style, and overall exposition of both code and text.\n",
    "- This probably goes without saying, but... For any question that asks you to calculate something, you **must show all work and justify your answers to receive credit**. Sparse or nonexistent work will receive sparse or nonexistent credit. \n",
    "\n",
    "---\n",
    "**Shortcuts:**  [Problem 1](#p1) | [Problem 2](#p2) | [Problem 3](#p3) | [Problem 4](#p4) |\n",
    "---"
   ]
  },
  {
   "cell_type": "code",
   "execution_count": 1,
   "metadata": {},
   "outputs": [],
   "source": [
    "import pandas as pd\n",
    "import numpy as np\n",
    "import matplotlib.pylab as plt\n",
    "%matplotlib inline"
   ]
  },
  {
   "cell_type": "markdown",
   "metadata": {},
   "source": [
    "[Back to top](#top)\n",
    "\n",
    "<br>\n",
    "\n",
    "<a/ id='p1'></a>\n",
    "\n",
    "### (20 points) Problem 1: Theory (Sampling)\n",
    "***\n",
    "\n",
    "<img style=\"float: left; width: 200px; padding: 3mm;\" src=\"https://upload.wikimedia.org/wikipedia/commons/5/57/Acme_ballot_box_-_Smithsonian.jpg\" alt=\"A ballot box\"/>  \n",
    "You are the head of a news outlet on election day. You have embedded journalists in key U.S. States in order sample voters at different polling stations in the states. Once your journalists choose a polling station, they monitor the station for the election day. The journalists then report back the number of votes for each candidate, which is recorded in a special App on your phone, called Hippocampus. Overall, your team collected data from 6 polling stations in Alaska, 36 polling stations in Ohio, 12 polling stations in Colorado, 6 polling stations in Iowa, and 42 polling stations from California.\n",
    "\n",
    "You want to get a sense of the average amount of votes for each candidate per polling station, so you use the Hippocampus app to randomly choose 1 polling station in Alaska, 6 polling stations in Ohio, 2 polling stations in Colorado, 1 polling station in Iowa, and 7 polling stations from California.\n",
    "\n",
    "$$ \\quad $$\n",
    "    \n",
    "**Part A:** Identify the following: \n",
    "\n",
    "- the population \n",
    "- the sample frame \n",
    "- the sample \n",
    "- the type of sample \n",
    "- the quantity of interest"
   ]
  },
  {
   "cell_type": "code",
   "execution_count": 2,
   "metadata": {},
   "outputs": [],
   "source": [
    "def mean(arr, ddof=0):\n",
    "    sum = 0\n",
    "    for item in arr:\n",
    "        sum = sum + item\n",
    "    mean = sum / (len(arr)-ddof)\n",
    "    return(mean)\n",
    "\n",
    "def median(arr):\n",
    "    arr = sorted(arr)\n",
    "    if len(arr) % 2 == 0:\n",
    "        median = (arr[(len(arr) // 2) - 1] + arr[(len(arr) // 2)]) / 2\n",
    "    else:\n",
    "        median = arr[len(arr) // 2]\n",
    "    return median\n",
    "\n",
    "def var(arr):\n",
    "    arrmean = mean(arr)\n",
    "    sqerr = []\n",
    "    for item in arr:\n",
    "        sqerr.append(item - arrmean)\n",
    "    sqerr = np.square(sqerr)\n",
    "    return(mean(sqerr, ddof=1))\n",
    "\n",
    "def std(arr):\n",
    "    return(np.sqrt(var(arr)))"
   ]
  },
  {
   "cell_type": "markdown",
   "metadata": {},
   "source": [
    "- the population: 17\n",
    "- the sample frame: 1/6 of the polling stations from each state, randomly chosen\n",
    "- the sample: "
   ]
  },
  {
   "cell_type": "markdown",
   "metadata": {},
   "source": [
    "**Part B:** You repeat your sampling, again using the Hippocampus app. Now, you order the stations alphabetically by State and choose every 3rd data value. \n",
    "    \n",
    "Identify the following: \n",
    "\n",
    "- the population \n",
    "- the sample frame \n",
    "- the sample \n",
    "- the type of sample \n",
    "- the quantity of interest"
   ]
  },
  {
   "cell_type": "markdown",
   "metadata": {},
   "source": [
    "**Typeset your solution to part B in this cell or cells**"
   ]
  },
  {
   "cell_type": "markdown",
   "metadata": {},
   "source": [
    "[Back to top](#top)\n",
    "\n",
    "<br>\n",
    "\n",
    "<a/ id='p2'></a>\n",
    "\n",
    "### (20 points) Problem 2: Theory and Computation (Means and Medians)\n",
    "***\n",
    "\n",
    "A method to investigate the sensitivity of the sample mean and sample median to extreme outliers and changes in the dataset is to replace one or more elements in a given dataset by a number $y$ and investigate the effect when $y$ changes. To illustrate this, consider the following dataset:\n",
    " \n",
    "$$  4.2 \\quad 5.1 \\quad 5.0 \\quad y \\quad 3.8 \\quad 4.1 \\quad 5.5 \\quad 1.9 $$\n",
    "\n",
    "\n"
   ]
  },
  {
   "cell_type": "markdown",
   "metadata": {},
   "source": [
    "**Part A:** Compute the sample mean and sample median for $y=1.5$. Then compute both quantities again for $y=6$."
   ]
  },
  {
   "cell_type": "code",
   "execution_count": 3,
   "metadata": {},
   "outputs": [
    {
     "name": "stdout",
     "output_type": "stream",
     "text": [
      "Mean of list with y=1.5: 3.8875\n",
      "Median of list with y=1.5: 4.15\n",
      "Mean of list with y=6: 4.45\n",
      "Median of list with y=6: 4.6\n"
     ]
    }
   ],
   "source": [
    "list = [4.2, 5.1, 5.0, 1.5, 3.8, 4.1, 5.5, 1.9]\n",
    "print(\"Mean of list with y=1.5:\", mean(list))\n",
    "print(\"Median of list with y=1.5:\", median(list))\n",
    "\n",
    "list = [4.2, 5.1, 5.0, 6, 3.8, 4.1, 5.5, 1.9]\n",
    "print(\"Mean of list with y=6:\", mean(list))\n",
    "print(\"Median of list with y=6:\", median(list))"
   ]
  },
  {
   "cell_type": "markdown",
   "metadata": {},
   "source": [
    "**Part B:** Is there a value for $y$ that would make the mean of the data equal to 6? If so, calculate the value of $y$ that makes the mean equal to 6. If not, clearly explain why not.\n",
    "    \n",
    "Is there a value for $y$ that would make the median of the data equal to 6? If so, calculate the values of $y$ that makes the median equal to 6. If not, clearly explain why not."
   ]
  },
  {
   "cell_type": "markdown",
   "metadata": {},
   "source": [
    "Yes, the value of the mean of the list would be six if (4.2 + 5.1 + 5.0 + 3.8 + 4.1 + 5.5 + 1.9 + y) / 8 = 6\n",
    "\n",
    "so y = 18.4 satisfies this condition\n",
    "\n",
    "No, the median cannot be 6, since 6 1. is not sampled in the list, and 2. is larger than any of the other values, and so unlike the mean an outlier cannot satisfy the given condition. "
   ]
  },
  {
   "cell_type": "markdown",
   "metadata": {},
   "source": [
    "**Part C**: Compute the sample variance and the sample standard deviation for the original dataset given in part A, with $y=6$."
   ]
  },
  {
   "cell_type": "code",
   "execution_count": 4,
   "metadata": {},
   "outputs": [
    {
     "name": "stdout",
     "output_type": "stream",
     "text": [
      "Variance of list: 1.6199999999999999\n",
      "Standard deviation of list: 1.2727922061357855\n"
     ]
    }
   ],
   "source": [
    "list = [4.2, 5.1, 5.0, 6, 3.8, 4.1, 5.5, 1.9]\n",
    "\n",
    "variance = var(list)\n",
    "stderr = std(list)\n",
    "\n",
    "print(\"Variance of list:\", variance)\n",
    "print(\"Standard deviation of list:\", stderr)"
   ]
  },
  {
   "cell_type": "markdown",
   "metadata": {},
   "source": [
    "**Part D**: Compute the sample median for the following cases: \n",
    "- $y=5$ \n",
    "- $y=50$ \n",
    "- $y=4.36$ \n",
    "- $y \\to \\infty$ \n",
    "- $y \\to -\\infty$"
   ]
  },
  {
   "cell_type": "code",
   "execution_count": 5,
   "metadata": {},
   "outputs": [
    {
     "name": "stdout",
     "output_type": "stream",
     "text": [
      "Median for y=5: 4.6\n",
      "Median for y=50: 4.6\n",
      "Median for y=4.36: 4.28\n",
      "Median for y approaching infinity: 4.6\n",
      "Median for y approaching negative infinity: 4.15\n"
     ]
    }
   ],
   "source": [
    "list = [4.2, 5.1, 5.0, 5.0, 3.8, 4.1, 5.5, 1.9]\n",
    "print(\"Median for y=5:\", median(list))\n",
    "\n",
    "list = [4.2, 5.1, 5.0, 50, 3.8, 4.1, 5.5, 1.9]\n",
    "print(\"Median for y=50:\", median(list))\n",
    "\n",
    "list = [4.2, 5.1, 5.0, 4.36, 3.8, 4.1, 5.5, 1.9]\n",
    "print(\"Median for y=4.36:\", median(list))\n",
    "\n",
    "list = [4.2, 5.1, 5.0, float('inf'), 3.8, 4.1, 5.5, 1.9]\n",
    "print(\"Median for y approaching infinity:\", median(list))\n",
    "\n",
    "list = [4.2, 5.1, 5.0, float('inf')*-1, 3.8, 4.1, 5.5, 1.9]\n",
    "print(\"Median for y approaching negative infinity:\", median(list))"
   ]
  },
  {
   "cell_type": "markdown",
   "metadata": {},
   "source": [
    "**Part E**: Think about the previous parts, above, and describe in words or mathematical notation the answers to the following two questions:\n",
    "\n",
    "- By varying $y$, what is the set of all the possible values that the sample mean could take on?\n",
    "- By varying $y$, what is the set of all the possible values that the sample median could take on? Specifically, for what sets of $y$ values does the median take on its different possible values?"
   ]
  },
  {
   "cell_type": "markdown",
   "metadata": {},
   "source": [
    "The sample mean could take on any value between positive and negative infinity given a large enough deviation in y. \n",
    "\n",
    "The sample median could be the middle-most numbers of the list, {4.1, 4.2}, or $y$ if it falls between them. If $y$ has a value, then it will be that the median is the average of the 2 middle-most numbers, so will either be an average of $y$ and 4.1, $y$ and 4.2, of 4.1 and 4.2, or of 4.2 and 5.0. "
   ]
  },
  {
   "cell_type": "markdown",
   "metadata": {},
   "source": [
    "**Part F**: Describe in words or mathematical notation, what happens to the sample standard deviation when $y$ is varied in the following ways: \n",
    " \n",
    "- $y \\to \\infty$ \n",
    "- $y \\to \\bar{x}$"
   ]
  },
  {
   "cell_type": "markdown",
   "metadata": {},
   "source": [
    "As $y$ approaches infinity, so does the sample standard deviation. "
   ]
  },
  {
   "cell_type": "code",
   "execution_count": 6,
   "metadata": {},
   "outputs": [
    {
     "name": "stdout",
     "output_type": "stream",
     "text": [
      "4.228571428571429\n",
      "1.1080411102665895\n"
     ]
    }
   ],
   "source": [
    "list = [4.2, 5.1, 5.0, 4.228571428571429, 3.8, 4.1, 5.5, 1.9]\n",
    "\n",
    "print(mean(list))\n",
    "print(std(list))"
   ]
  },
  {
   "cell_type": "code",
   "execution_count": 7,
   "metadata": {},
   "outputs": [
    {
     "name": "stdout",
     "output_type": "stream",
     "text": [
      "4.228571428571429\n",
      "1.196821186468953\n",
      "1.0939932296266524\n"
     ]
    }
   ],
   "source": [
    "list = [4.2, 5.1, 5.0, 3.8, 4.1, 5.5, 1.9]\n",
    "\n",
    "print(mean(list))\n",
    "print(std(list))\n",
    "print(np.sqrt(std(list)))"
   ]
  },
  {
   "cell_type": "markdown",
   "metadata": {},
   "source": [
    "[Back to top](#top)\n",
    "<a/ id='p6'></a>\n",
    "\n",
    "## (20 pts) Problem 3: Computation (Scaling)\n",
    "***\n",
    "Consider the following 3 data sets:\n",
    "\n",
    "`A=[0,1,2,3,4,5,6,7,8,9,10,11,12]`\n",
    "\n",
    "`B=[0,0,0,12,7,18,47,25,0,13,0,35]`\n",
    "\n",
    "`C` is the random data set generated by using `np.random.exponential(scale=43, size=1000)`\n",
    "\n",
    "For each data set, perform the following computations in parts A, B, and C:\n",
    "\n",
    "**Part A:** Compute and print the mean and standard deviation of the data set."
   ]
  },
  {
   "cell_type": "code",
   "execution_count": 8,
   "metadata": {},
   "outputs": [],
   "source": [
    "C=np.random.exponential(scale=43, size=1000)"
   ]
  },
  {
   "cell_type": "code",
   "execution_count": 9,
   "metadata": {},
   "outputs": [
    {
     "name": "stdout",
     "output_type": "stream",
     "text": [
      "Mean of A: 6.0\n",
      "Std of A: 3.8944404818493075\n",
      "Mean of B: 13.083333333333334\n",
      "Std of B: 15.64061341120571\n",
      "Mean of C: 43.0862385616184\n",
      "Std of C: 45.066643374810056\n"
     ]
    }
   ],
   "source": [
    "A=[0,1,2,3,4,5,6,7,8,9,10,11,12]\n",
    "print(\"Mean of A:\", mean(A))\n",
    "print(\"Std of A:\", std(A))\n",
    "\n",
    "B=[0,0,0,12,7,18,47,25,0,13,0,35]\n",
    "print(\"Mean of B:\", mean(B))\n",
    "print(\"Std of B:\", std(B))\n",
    "\n",
    "print(\"Mean of C:\", mean(C))\n",
    "print(\"Std of C:\", std(C))"
   ]
  },
  {
   "cell_type": "markdown",
   "metadata": {},
   "source": [
    "**Part B:** Compute and print  the mean and standard deviation of the new data set formed by subtracting the original mean from each observation."
   ]
  },
  {
   "cell_type": "code",
   "execution_count": 10,
   "metadata": {},
   "outputs": [
    {
     "name": "stdout",
     "output_type": "stream",
     "text": [
      "Mean of new A: 0.0\n",
      "Std of new A: 3.8944404818493075\n",
      "Mean of new B: -1.1842378929335002e-15\n",
      "Std of new B: 15.64061341120571\n",
      "Mean of new C: 1.0666667549230624e-13\n",
      "Std of new C: 45.06664337481006\n"
     ]
    }
   ],
   "source": [
    "newA = [item - mean(A) for item in A]\n",
    "newB = [item - mean(B) for item in B]\n",
    "newC = [item - mean(C) for item in C]\n",
    "\n",
    "print(\"Mean of new A:\", mean(newA))\n",
    "print(\"Std of new A:\", std(newA))\n",
    "\n",
    "print(\"Mean of new B:\", mean(newB))\n",
    "print(\"Std of new B:\", std(newB))\n",
    "\n",
    "print(\"Mean of new C:\", mean(newC))\n",
    "print(\"Std of new C:\", std(newC))"
   ]
  },
  {
   "cell_type": "markdown",
   "metadata": {},
   "source": [
    "**Part C:** Compute and print  the mean and standard deviation of the new data set formed by subtracting the original mean from each observation and then dividing by the original standard deviation."
   ]
  },
  {
   "cell_type": "code",
   "execution_count": 11,
   "metadata": {},
   "outputs": [
    {
     "name": "stdout",
     "output_type": "stream",
     "text": [
      "Mean of newer A: -5.124106267500723e-17\n",
      "Std of newer A: 0.9999999999999999\n",
      "Mean of newer B: -1.850371707708594e-17\n",
      "Std of newer B: 0.9999999999999999\n",
      "Mean of newer C: 2.3560042805570447e-15\n",
      "Std of newer C: 1.0000000000000007\n"
     ]
    }
   ],
   "source": [
    "newerA = [(item - mean(A))/std(A) for item in A]\n",
    "newerB = [(item - mean(B))/std(B) for item in B]\n",
    "newerC = [(item - mean(C))/std(C) for item in C]\n",
    "\n",
    "print(\"Mean of newer A:\", mean(newerA))\n",
    "print(\"Std of newer A:\", std(newerA))\n",
    "\n",
    "print(\"Mean of newer B:\", mean(newerB))\n",
    "print(\"Std of newer B:\", std(newerB))\n",
    "\n",
    "print(\"Mean of newer C:\", mean(newerC))\n",
    "print(\"Std of newer C:\", std(newerC))"
   ]
  },
  {
   "cell_type": "markdown",
   "metadata": {},
   "source": [
    "**Part D:** Why might this result matter?"
   ]
  },
  {
   "cell_type": "markdown",
   "metadata": {},
   "source": [
    "In part B, we've (very nearly?) centered the dataset around a mean of 0. In the next part, we've scaled each such that the standard deviation is = 1. "
   ]
  },
  {
   "cell_type": "markdown",
   "metadata": {},
   "source": [
    "**Part E:** Looking at each of the 3 data sets, come up with a real-world context where those kind of numbers might make for reasonable observations."
   ]
  },
  {
   "cell_type": "markdown",
   "metadata": {},
   "source": [
    "When viewing EEG data in real life, it's often useful to center the waveform around 0, so that deviations are able to be more easily read as either hyperpolarizations or depolarizations of sets of neurons.\n",
    "\n",
    "The scaling of the dataset so std=1 could help with threshold detection algorithms like peak-detection, or outlier-detection algorithms for artifacting movement-related data, etc. "
   ]
  },
  {
   "cell_type": "markdown",
   "metadata": {},
   "source": [
    "[Back to top](#top)\n",
    "<a/ id='p4'></a>\n",
    "\n",
    "## (35 pts) Problem 4: Data (monthly patterns)\n",
    "***\n",
    "\n",
    "NOAA's Physical Sciences division (https://www.esrl.noaa.gov/psd) houses an enormous amount of weather data.  Load `BoulderPrecip.csv` from the course page for the last 120 years of monthly precipitation data from Boulder.  Let's take a look!"
   ]
  },
  {
   "cell_type": "code",
   "execution_count": 12,
   "metadata": {},
   "outputs": [
    {
     "data": {
      "text/html": [
       "<div>\n",
       "<style scoped>\n",
       "    .dataframe tbody tr th:only-of-type {\n",
       "        vertical-align: middle;\n",
       "    }\n",
       "\n",
       "    .dataframe tbody tr th {\n",
       "        vertical-align: top;\n",
       "    }\n",
       "\n",
       "    .dataframe thead th {\n",
       "        text-align: right;\n",
       "    }\n",
       "</style>\n",
       "<table border=\"1\" class=\"dataframe\">\n",
       "  <thead>\n",
       "    <tr style=\"text-align: right;\">\n",
       "      <th></th>\n",
       "      <th>Year</th>\n",
       "      <th>JAN</th>\n",
       "      <th>FEB</th>\n",
       "      <th>MAR</th>\n",
       "      <th>APR</th>\n",
       "      <th>MAY</th>\n",
       "      <th>JUN</th>\n",
       "      <th>JUL</th>\n",
       "      <th>AUG</th>\n",
       "      <th>SEP</th>\n",
       "      <th>OCT</th>\n",
       "      <th>NOV</th>\n",
       "      <th>DEC</th>\n",
       "      <th>YEAR TOTAL</th>\n",
       "    </tr>\n",
       "  </thead>\n",
       "  <tbody>\n",
       "    <tr>\n",
       "      <th>0</th>\n",
       "      <td>1900</td>\n",
       "      <td>0.4</td>\n",
       "      <td>1.06</td>\n",
       "      <td>0.75</td>\n",
       "      <td>9.18</td>\n",
       "      <td>1.84</td>\n",
       "      <td>0.49</td>\n",
       "      <td>0.48</td>\n",
       "      <td>0.22</td>\n",
       "      <td>1.54</td>\n",
       "      <td>0.13</td>\n",
       "      <td>0.19</td>\n",
       "      <td>0.61</td>\n",
       "      <td>16.89</td>\n",
       "    </tr>\n",
       "    <tr>\n",
       "      <th>1</th>\n",
       "      <td>1901</td>\n",
       "      <td>0.53</td>\n",
       "      <td>0.3</td>\n",
       "      <td>1.74</td>\n",
       "      <td>3.51</td>\n",
       "      <td>1.62</td>\n",
       "      <td>1.76</td>\n",
       "      <td>0.46</td>\n",
       "      <td>1.69</td>\n",
       "      <td>0.16</td>\n",
       "      <td>0.65</td>\n",
       "      <td>Tr</td>\n",
       "      <td>1.43</td>\n",
       "      <td>13.85</td>\n",
       "    </tr>\n",
       "    <tr>\n",
       "      <th>2</th>\n",
       "      <td>1902</td>\n",
       "      <td>0.37</td>\n",
       "      <td>0.48</td>\n",
       "      <td>1.48</td>\n",
       "      <td>1.01</td>\n",
       "      <td>2.32</td>\n",
       "      <td>1.46</td>\n",
       "      <td>1.26</td>\n",
       "      <td>0.53</td>\n",
       "      <td>5.46</td>\n",
       "      <td>1.44</td>\n",
       "      <td>1.29</td>\n",
       "      <td>1.34</td>\n",
       "      <td>18.44</td>\n",
       "    </tr>\n",
       "    <tr>\n",
       "      <th>3</th>\n",
       "      <td>1903</td>\n",
       "      <td>0.08</td>\n",
       "      <td>1.52</td>\n",
       "      <td>1.45</td>\n",
       "      <td>2.31</td>\n",
       "      <td>2.02</td>\n",
       "      <td>1.87</td>\n",
       "      <td>0.95</td>\n",
       "      <td>1.46</td>\n",
       "      <td>1.31</td>\n",
       "      <td>3.43</td>\n",
       "      <td>0.15</td>\n",
       "      <td>0.16</td>\n",
       "      <td>16.71</td>\n",
       "    </tr>\n",
       "    <tr>\n",
       "      <th>4</th>\n",
       "      <td>1904</td>\n",
       "      <td>0.09</td>\n",
       "      <td>0.31</td>\n",
       "      <td>2.37</td>\n",
       "      <td>1.45</td>\n",
       "      <td>5.35</td>\n",
       "      <td>2.72</td>\n",
       "      <td>1.05</td>\n",
       "      <td>1.00</td>\n",
       "      <td>1.6</td>\n",
       "      <td>1.06</td>\n",
       "      <td>0.08</td>\n",
       "      <td>0.7</td>\n",
       "      <td>17.78</td>\n",
       "    </tr>\n",
       "  </tbody>\n",
       "</table>\n",
       "</div>"
      ],
      "text/plain": [
       "   Year   JAN   FEB   MAR   APR   MAY   JUN   JUL   AUG   SEP   OCT   NOV  \\\n",
       "0  1900   0.4  1.06  0.75  9.18  1.84  0.49  0.48  0.22  1.54  0.13  0.19   \n",
       "1  1901  0.53   0.3  1.74  3.51  1.62  1.76  0.46  1.69  0.16  0.65    Tr   \n",
       "2  1902  0.37  0.48  1.48  1.01  2.32  1.46  1.26  0.53  5.46  1.44  1.29   \n",
       "3  1903  0.08  1.52  1.45  2.31  2.02  1.87  0.95  1.46  1.31  3.43  0.15   \n",
       "4  1904  0.09  0.31  2.37  1.45  5.35  2.72  1.05  1.00   1.6  1.06  0.08   \n",
       "\n",
       "    DEC YEAR TOTAL  \n",
       "0  0.61      16.89  \n",
       "1  1.43      13.85  \n",
       "2  1.34      18.44  \n",
       "3  0.16      16.71  \n",
       "4   0.7      17.78  "
      ]
     },
     "execution_count": 12,
     "metadata": {},
     "output_type": "execute_result"
    }
   ],
   "source": [
    "dfPrecip = pd.read_csv('../Data/BoulderPrecip.csv')\n",
    "dfPrecip.head()"
   ]
  },
  {
   "cell_type": "markdown",
   "metadata": {},
   "source": [
    "**Part A:** SCRUBBING!  Our data set is going to be tough to use for a few reasons.\n",
    "\n",
    "1) When the amount of precipitation was nonzero but too small to be recorded, this data set recorded `tr`.  Replace these with zeroes.\n",
    "\n",
    "2) 2020 isn't over yet!  We have one row at the bottom that isn't fully complete and NA values have been filled into the months that haven't happened yet.  This can wreak havoc on a lot of our methods!  Drop the 2020 data entirely.\n",
    "\n",
    "3) You may have some object typing issues relating to columns that contained both \"Tr\"/\"NA\" and numeric values.  Ensure that Python is treating all of your data as numeric!"
   ]
  },
  {
   "cell_type": "code",
   "execution_count": 13,
   "metadata": {},
   "outputs": [],
   "source": [
    "dfPrecip.replace(\"Tr\", float(0), inplace=True)"
   ]
  },
  {
   "cell_type": "code",
   "execution_count": 14,
   "metadata": {},
   "outputs": [],
   "source": [
    "dfPrecip.drop(dfPrecip[dfPrecip.Year == int('2020')].index, inplace=True)"
   ]
  },
  {
   "cell_type": "code",
   "execution_count": 15,
   "metadata": {},
   "outputs": [
    {
     "data": {
      "text/plain": [
       "Year           True\n",
       "JAN            True\n",
       "FEB            True\n",
       "MAR            True\n",
       "APR            True\n",
       "MAY            True\n",
       "JUN            True\n",
       "JUL            True\n",
       "AUG            True\n",
       "SEP            True\n",
       "OCT            True\n",
       "NOV            True\n",
       "DEC            True\n",
       "YEAR TOTAL    False\n",
       "dtype: bool"
      ]
     },
     "execution_count": 15,
     "metadata": {},
     "output_type": "execute_result"
    }
   ],
   "source": [
    "# check to see if any of the columns aren't numeric\n",
    "dfPrecip.apply(lambda s: pd.to_numeric(s, errors='coerce').notnull().all())"
   ]
  },
  {
   "cell_type": "code",
   "execution_count": 16,
   "metadata": {},
   "outputs": [],
   "source": [
    "# since 'YEAR TOTAL' wasn't, convert that column to float\n",
    "# failed for trailing whitespace, so removed from each value\n",
    "#dfPrecip = dfPrecip.apply(lambda x: x.str.strip() if x.dtype == \"object\" else x)\n",
    "#dfPrecip['YEAR TOTAL'] = pd.to_numeric(dfPrecip['YEAR TOTAL'], downcast=\"float\")"
   ]
  },
  {
   "cell_type": "code",
   "execution_count": 17,
   "metadata": {},
   "outputs": [
    {
     "data": {
      "text/html": [
       "<div>\n",
       "<style scoped>\n",
       "    .dataframe tbody tr th:only-of-type {\n",
       "        vertical-align: middle;\n",
       "    }\n",
       "\n",
       "    .dataframe tbody tr th {\n",
       "        vertical-align: top;\n",
       "    }\n",
       "\n",
       "    .dataframe thead th {\n",
       "        text-align: right;\n",
       "    }\n",
       "</style>\n",
       "<table border=\"1\" class=\"dataframe\">\n",
       "  <thead>\n",
       "    <tr style=\"text-align: right;\">\n",
       "      <th></th>\n",
       "      <th>Year</th>\n",
       "      <th>JAN</th>\n",
       "      <th>FEB</th>\n",
       "      <th>MAR</th>\n",
       "      <th>APR</th>\n",
       "      <th>MAY</th>\n",
       "      <th>JUN</th>\n",
       "      <th>JUL</th>\n",
       "      <th>AUG</th>\n",
       "      <th>SEP</th>\n",
       "      <th>OCT</th>\n",
       "      <th>NOV</th>\n",
       "      <th>DEC</th>\n",
       "      <th>YEAR TOTAL</th>\n",
       "    </tr>\n",
       "  </thead>\n",
       "  <tbody>\n",
       "    <tr>\n",
       "      <th>0</th>\n",
       "      <td>1900</td>\n",
       "      <td>0.4</td>\n",
       "      <td>1.06</td>\n",
       "      <td>0.75</td>\n",
       "      <td>9.18</td>\n",
       "      <td>1.84</td>\n",
       "      <td>0.49</td>\n",
       "      <td>0.48</td>\n",
       "      <td>0.22</td>\n",
       "      <td>1.54</td>\n",
       "      <td>0.13</td>\n",
       "      <td>0.19</td>\n",
       "      <td>0.61</td>\n",
       "      <td>16.89</td>\n",
       "    </tr>\n",
       "    <tr>\n",
       "      <th>1</th>\n",
       "      <td>1901</td>\n",
       "      <td>0.53</td>\n",
       "      <td>0.3</td>\n",
       "      <td>1.74</td>\n",
       "      <td>3.51</td>\n",
       "      <td>1.62</td>\n",
       "      <td>1.76</td>\n",
       "      <td>0.46</td>\n",
       "      <td>1.69</td>\n",
       "      <td>0.16</td>\n",
       "      <td>0.65</td>\n",
       "      <td>0</td>\n",
       "      <td>1.43</td>\n",
       "      <td>13.85</td>\n",
       "    </tr>\n",
       "    <tr>\n",
       "      <th>2</th>\n",
       "      <td>1902</td>\n",
       "      <td>0.37</td>\n",
       "      <td>0.48</td>\n",
       "      <td>1.48</td>\n",
       "      <td>1.01</td>\n",
       "      <td>2.32</td>\n",
       "      <td>1.46</td>\n",
       "      <td>1.26</td>\n",
       "      <td>0.53</td>\n",
       "      <td>5.46</td>\n",
       "      <td>1.44</td>\n",
       "      <td>1.29</td>\n",
       "      <td>1.34</td>\n",
       "      <td>18.44</td>\n",
       "    </tr>\n",
       "    <tr>\n",
       "      <th>3</th>\n",
       "      <td>1903</td>\n",
       "      <td>0.08</td>\n",
       "      <td>1.52</td>\n",
       "      <td>1.45</td>\n",
       "      <td>2.31</td>\n",
       "      <td>2.02</td>\n",
       "      <td>1.87</td>\n",
       "      <td>0.95</td>\n",
       "      <td>1.46</td>\n",
       "      <td>1.31</td>\n",
       "      <td>3.43</td>\n",
       "      <td>0.15</td>\n",
       "      <td>0.16</td>\n",
       "      <td>16.71</td>\n",
       "    </tr>\n",
       "    <tr>\n",
       "      <th>4</th>\n",
       "      <td>1904</td>\n",
       "      <td>0.09</td>\n",
       "      <td>0.31</td>\n",
       "      <td>2.37</td>\n",
       "      <td>1.45</td>\n",
       "      <td>5.35</td>\n",
       "      <td>2.72</td>\n",
       "      <td>1.05</td>\n",
       "      <td>1.00</td>\n",
       "      <td>1.6</td>\n",
       "      <td>1.06</td>\n",
       "      <td>0.08</td>\n",
       "      <td>0.7</td>\n",
       "      <td>17.78</td>\n",
       "    </tr>\n",
       "    <tr>\n",
       "      <th>...</th>\n",
       "      <td>...</td>\n",
       "      <td>...</td>\n",
       "      <td>...</td>\n",
       "      <td>...</td>\n",
       "      <td>...</td>\n",
       "      <td>...</td>\n",
       "      <td>...</td>\n",
       "      <td>...</td>\n",
       "      <td>...</td>\n",
       "      <td>...</td>\n",
       "      <td>...</td>\n",
       "      <td>...</td>\n",
       "      <td>...</td>\n",
       "      <td>...</td>\n",
       "    </tr>\n",
       "    <tr>\n",
       "      <th>115</th>\n",
       "      <td>2015</td>\n",
       "      <td>0.38</td>\n",
       "      <td>3.69</td>\n",
       "      <td>0.38</td>\n",
       "      <td>4.50</td>\n",
       "      <td>7.82</td>\n",
       "      <td>1.76</td>\n",
       "      <td>2.98</td>\n",
       "      <td>0.31</td>\n",
       "      <td>0.14</td>\n",
       "      <td>2.02</td>\n",
       "      <td>1.83</td>\n",
       "      <td>1.11</td>\n",
       "      <td>27.39</td>\n",
       "    </tr>\n",
       "    <tr>\n",
       "      <th>116</th>\n",
       "      <td>2016</td>\n",
       "      <td>0.37</td>\n",
       "      <td>1.44</td>\n",
       "      <td>3.84</td>\n",
       "      <td>3.34</td>\n",
       "      <td>2.01</td>\n",
       "      <td>2.37</td>\n",
       "      <td>0.61</td>\n",
       "      <td>1.06</td>\n",
       "      <td>0.45</td>\n",
       "      <td>0.38</td>\n",
       "      <td>0.47</td>\n",
       "      <td>0.91</td>\n",
       "      <td>17.25</td>\n",
       "    </tr>\n",
       "    <tr>\n",
       "      <th>117</th>\n",
       "      <td>2017</td>\n",
       "      <td>1.41</td>\n",
       "      <td>0.73</td>\n",
       "      <td>1.45</td>\n",
       "      <td>3.15</td>\n",
       "      <td>6.29</td>\n",
       "      <td>0.45</td>\n",
       "      <td>1.30</td>\n",
       "      <td>1.62</td>\n",
       "      <td>1.92</td>\n",
       "      <td>2.42</td>\n",
       "      <td>0.57</td>\n",
       "      <td>0.68</td>\n",
       "      <td>21.89</td>\n",
       "    </tr>\n",
       "    <tr>\n",
       "      <th>118</th>\n",
       "      <td>2018</td>\n",
       "      <td>0.74</td>\n",
       "      <td>1.04</td>\n",
       "      <td>2.23</td>\n",
       "      <td>1.35</td>\n",
       "      <td>4.76</td>\n",
       "      <td>1.82</td>\n",
       "      <td>1.84</td>\n",
       "      <td>0.24</td>\n",
       "      <td>1.02</td>\n",
       "      <td>2.68</td>\n",
       "      <td>1.19</td>\n",
       "      <td>0.34</td>\n",
       "      <td>19.01</td>\n",
       "    </tr>\n",
       "    <tr>\n",
       "      <th>119</th>\n",
       "      <td>2019</td>\n",
       "      <td>1.57</td>\n",
       "      <td>0.74</td>\n",
       "      <td>2.83</td>\n",
       "      <td>1.87</td>\n",
       "      <td>3.89</td>\n",
       "      <td>2.12</td>\n",
       "      <td>2.21</td>\n",
       "      <td>0.10</td>\n",
       "      <td>0.56</td>\n",
       "      <td>2.42</td>\n",
       "      <td>2.38</td>\n",
       "      <td>0.35</td>\n",
       "      <td>21.04</td>\n",
       "    </tr>\n",
       "  </tbody>\n",
       "</table>\n",
       "<p>120 rows × 14 columns</p>\n",
       "</div>"
      ],
      "text/plain": [
       "     Year   JAN   FEB   MAR   APR   MAY   JUN   JUL   AUG   SEP   OCT   NOV  \\\n",
       "0    1900   0.4  1.06  0.75  9.18  1.84  0.49  0.48  0.22  1.54  0.13  0.19   \n",
       "1    1901  0.53   0.3  1.74  3.51  1.62  1.76  0.46  1.69  0.16  0.65     0   \n",
       "2    1902  0.37  0.48  1.48  1.01  2.32  1.46  1.26  0.53  5.46  1.44  1.29   \n",
       "3    1903  0.08  1.52  1.45  2.31  2.02  1.87  0.95  1.46  1.31  3.43  0.15   \n",
       "4    1904  0.09  0.31  2.37  1.45  5.35  2.72  1.05  1.00   1.6  1.06  0.08   \n",
       "..    ...   ...   ...   ...   ...   ...   ...   ...   ...   ...   ...   ...   \n",
       "115  2015  0.38  3.69  0.38  4.50  7.82  1.76  2.98  0.31  0.14  2.02  1.83   \n",
       "116  2016  0.37  1.44  3.84  3.34  2.01  2.37  0.61  1.06  0.45  0.38  0.47   \n",
       "117  2017  1.41  0.73  1.45  3.15  6.29  0.45  1.30  1.62  1.92  2.42  0.57   \n",
       "118  2018  0.74  1.04  2.23  1.35  4.76  1.82  1.84  0.24  1.02  2.68  1.19   \n",
       "119  2019  1.57  0.74  2.83  1.87  3.89  2.12  2.21  0.10  0.56  2.42  2.38   \n",
       "\n",
       "      DEC YEAR TOTAL  \n",
       "0    0.61      16.89  \n",
       "1    1.43      13.85  \n",
       "2    1.34      18.44  \n",
       "3    0.16      16.71  \n",
       "4     0.7      17.78  \n",
       "..    ...        ...  \n",
       "115  1.11      27.39  \n",
       "116  0.91      17.25  \n",
       "117  0.68      21.89  \n",
       "118  0.34      19.01  \n",
       "119  0.35     21.04   \n",
       "\n",
       "[120 rows x 14 columns]"
      ]
     },
     "execution_count": 17,
     "metadata": {},
     "output_type": "execute_result"
    }
   ],
   "source": [
    "dfPrecip"
   ]
  },
  {
   "cell_type": "markdown",
   "metadata": {},
   "source": [
    "**Part B:** Generate a series of 12 box plots with month as the x axis and precipitation on the y-axis."
   ]
  },
  {
   "cell_type": "code",
   "execution_count": 18,
   "metadata": {},
   "outputs": [
    {
     "data": {
      "text/plain": [
       "array([['0.4', '1.06', 0.75, ..., '0.13', '0.19', '0.61'],\n",
       "       ['0.53', '0.3', 1.74, ..., '0.65', 0.0, '1.43'],\n",
       "       ['0.37', '0.48', 1.48, ..., '1.44', '1.29', '1.34'],\n",
       "       ...,\n",
       "       ['1.41', '0.73', 1.45, ..., '2.42', '0.57', '0.68'],\n",
       "       ['0.74', '1.04', 2.23, ..., '2.68', '1.19', '0.34'],\n",
       "       ['1.57', '0.74', 2.83, ..., '2.42', '2.38', '0.35']], dtype=object)"
      ]
     },
     "execution_count": 18,
     "metadata": {},
     "output_type": "execute_result"
    }
   ],
   "source": [
    "months = [month for month in dfPrecip.columns[1:-1]]\n",
    "\n",
    "npdataset = dfPrecip[months].to_numpy()\n",
    "\n",
    "npdataset"
   ]
  },
  {
   "cell_type": "code",
   "execution_count": 24,
   "metadata": {},
   "outputs": [],
   "source": [
    "npdataset = npdataset.astype(\"float\")"
   ]
  },
  {
   "cell_type": "code",
   "execution_count": 27,
   "metadata": {},
   "outputs": [
    {
     "data": {
      "image/png": "[encoded data removed]",
      "text/plain": [
       "<Figure size 432x288 with 1 Axes>"
      ]
     },
     "metadata": {
      "needs_background": "light"
     },
     "output_type": "display_data"
    }
   ],
   "source": [
    "fig = plt.boxplot(npdataset)"
   ]
  },
  {
   "cell_type": "markdown",
   "metadata": {},
   "source": [
    "\n",
    "**Part C:** Spring is the wet season in Boulder.   But what is Spring?\n",
    "\n",
    "Atmospheric scientists love to group months seasonally, breaking the year into a Winter season including December, January, February; a Spring including March, April, and May; and so forth.\n",
    "\n",
    "The solar year, however, says that Spring runs from near the end of March until near the end of June: let's round at the nearest month and say that it includes the months of April, May and June.\n",
    "\n",
    "Generate a box plot with precipitation on the y-axis and the two possible monthly 'Spring' groupings (March-May versus April-June) as the x-axis."
   ]
  },
  {
   "cell_type": "code",
   "execution_count": 30,
   "metadata": {},
   "outputs": [
    {
     "data": {
      "image/png": "[encoded data removed]",
      "text/plain": [
       "<Figure size 432x288 with 1 Axes>"
      ]
     },
     "metadata": {
      "needs_background": "light"
     },
     "output_type": "display_data"
    }
   ],
   "source": [
    "fig1 = plt.boxplot(npdataset[:, 2:5])"
   ]
  },
  {
   "cell_type": "code",
   "execution_count": 31,
   "metadata": {},
   "outputs": [
    {
     "data": {
      "image/png": "[encoded data removed]",
      "text/plain": [
       "<Figure size 432x288 with 1 Axes>"
      ]
     },
     "metadata": {
      "needs_background": "light"
     },
     "output_type": "display_data"
    }
   ],
   "source": [
    "fig2 = plt.boxplot(npdataset[:, 3:6])"
   ]
  },
  {
   "cell_type": "markdown",
   "metadata": {},
   "source": [
    "**Part D:** These might look pretty similar!  Highlight and comment on any differences by calculating the mean, standard deviation, and a Tukey five number summary of each classification of Spring.  Is there a reason here to favor one grouping over the other?"
   ]
  },
  {
   "cell_type": "code",
   "execution_count": 37,
   "metadata": {},
   "outputs": [
    {
     "name": "stdout",
     "output_type": "stream",
     "text": [
      "Mean of figure 1 data: 2.506333333333334\n",
      "Std of figure 1 data: 1.6817994740016091\n",
      "Minimum of figure 1 data: 0.0\n",
      "Q1 of figure 1 data: 1.3575\n",
      "Median of figure 1 data: 2.09\n",
      "Q3 of figure 1 data: 3.3724999999999996\n",
      "Maximum of figure 1 data: 9.59\n"
     ]
    }
   ],
   "source": [
    "# figure 1\n",
    "\n",
    "fig1data = np.concatenate(npdataset[:, 2:5])\n",
    "\n",
    "fig1mean = mean(fig1data)\n",
    "print(\"Mean of figure 1 data:\", fig1mean)\n",
    "\n",
    "fig1std = std(fig1data)\n",
    "print(\"Std of figure 1 data:\", fig1std)\n",
    "\n",
    "# 5 number summary\n",
    "min1 = np.min(fig1data)\n",
    "print(\"Minimum of figure 1 data:\", min1)\n",
    "\n",
    "q1fig1 = np.percentile(fig1data, 25)\n",
    "print(\"Q1 of figure 1 data:\", q1fig1)\n",
    "\n",
    "medianfig1 = median(fig1data)\n",
    "print(\"Median of figure 1 data:\", medianfig1)\n",
    "\n",
    "q3fig1 = np.percentile(fig1data, 75)\n",
    "print(\"Q3 of figure 1 data:\", q3fig1)\n",
    "\n",
    "max1 = np.max(fig1data)\n",
    "print(\"Maximum of figure 1 data:\", max1)"
   ]
  },
  {
   "cell_type": "code",
   "execution_count": 38,
   "metadata": {},
   "outputs": [
    {
     "name": "stdout",
     "output_type": "stream",
     "text": [
      "Mean of figure 2 data: 2.56063888888889\n",
      "Std of figure 2 data: 1.6817994740016091\n",
      "Minimum of figure 2 data: 0.0\n",
      "Q1 of figure 2 data: 1.35\n",
      "Median of figure 2 data: 2.09\n",
      "Q3 of figure 2 data: 3.47\n",
      "Maximum of figure 2 data: 9.59\n"
     ]
    }
   ],
   "source": [
    "# figure 2\n",
    "\n",
    "fig2data = np.concatenate(npdataset[:, 3:6])\n",
    "\n",
    "fig2mean = mean(fig2data)\n",
    "print(\"Mean of figure 2 data:\", fig2mean)\n",
    "\n",
    "fig2std = std(fig1data)\n",
    "print(\"Std of figure 2 data:\", fig2std)\n",
    "\n",
    "# 5 number summary\n",
    "min2 = np.min(fig2data)\n",
    "print(\"Minimum of figure 2 data:\", min2)\n",
    "\n",
    "q1fig2 = np.percentile(fig2data, 25)\n",
    "print(\"Q1 of figure 2 data:\", q1fig2)\n",
    "\n",
    "medianfig2 = median(fig2data)\n",
    "print(\"Median of figure 2 data:\", medianfig2)\n",
    "\n",
    "q3fig2 = np.percentile(fig2data, 75)\n",
    "print(\"Q3 of figure 2 data:\", q3fig2)\n",
    "\n",
    "max2 = np.max(fig2data)\n",
    "print(\"Maximum of figure 2 data:\", max2)"
   ]
  },
  {
   "cell_type": "markdown",
   "metadata": {},
   "source": [
    "**Part E:** Create a density histogram of the September precipitation.  Classify and describe this histogram, including discussion of any skewness, multimodality, or outliers.  Find the data point associated with September, 2013, and recreate your histogram with that value in a different color or otherwise clearly marked."
   ]
  },
  {
   "cell_type": "code",
   "execution_count": 13,
   "metadata": {},
   "outputs": [],
   "source": []
  },
  {
   "cell_type": "markdown",
   "metadata": {},
   "source": [
    "**Typeset your analysis for part E in this cell or cells**"
   ]
  }
 ],
 "metadata": {
  "kernelspec": {
   "display_name": "Python 3",
   "language": "python",
   "name": "python3"
  },
  "language_info": {
   "codemirror_mode": {
    "name": "ipython",
    "version": 3
   },
   "file_extension": ".py",
   "mimetype": "text/x-python",
   "name": "python",
   "nbconvert_exporter": "python",
   "pygments_lexer": "ipython3",
   "version": "3.8.5"
  }
 },
 "nbformat": 4,
 "nbformat_minor": 4
}
