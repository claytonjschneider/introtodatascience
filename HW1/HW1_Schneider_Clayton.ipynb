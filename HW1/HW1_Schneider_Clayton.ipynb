{
 "cells": [
  {
   "cell_type": "markdown",
   "metadata": {},
   "source": [
    "<a id='top'></a>\n",
    "\n",
    "# CSCI3022 S21\n",
    "# Homework 1: Measures of Centrality and Dispersion\n",
    "***\n",
    "\n",
    "**Name**: Clayton Schneider\n",
    "\n",
    "***\n",
    "\n",
    "This assignment is due on Canvas by **MIDNIGHT on Monday, February 1**. Your solutions to theoretical questions should be done in Markdown directly below the associated question.  Your solutions to computational questions should include any specified Python code and results as well as written commentary on your conclusions.  Remember that you are encouraged to discuss the problems with your classmates, but **you must write all code and solutions on your own**.\n",
    "\n",
    "**NOTES**: \n",
    "\n",
    "- Any relevant data sets should be available on Canvas. To make life easier on the graders if they need to run your code, do not change the relative path names here. Instead, move the files around on your computer.\n",
    "- If you're not familiar with typesetting math directly into Markdown then by all means, do your work on paper first and then typeset it later.  Here is a [reference guide](https://math.meta.stackexchange.com/questions/5020/mathjax-basic-tutorial-and-quick-reference) linked on Canvas on writing math in Markdown. **All** of your written commentary, justifications and mathematical work should be in Markdown.  I also recommend the [wikibook](https://en.wikibooks.org/wiki/LaTeX) for LaTex.\n",
    "- Because you can technically evaluate notebook cells is a non-linear order, it's a good idea to do **Kernel $\\rightarrow$ Restart & Run All** as a check before submitting your solutions.  That way if we need to run your code you will know that it will work as expected. \n",
    "- It is **bad form** to make your reader interpret numerical output from your code.  If a question asks you to compute some value from the data you should show your code output **AND** write a summary of the results in Markdown directly below your code. \n",
    "- 95 points of this assignment are in problems.  The remaining 5 are for neatness, style, and overall exposition of both code and text.\n",
    "- This probably goes without saying, but... For any question that asks you to calculate something, you **must show all work and justify your answers to receive credit**. Sparse or nonexistent work will receive sparse or nonexistent credit. \n",
    "\n",
    "---\n",
    "**Shortcuts:**  [Problem 1](#p1) | [Problem 2](#p2) | [Problem 3](#p3) |\n",
    "---"
   ]
  },
  {
   "cell_type": "code",
   "execution_count": 1,
   "metadata": {},
   "outputs": [],
   "source": [
    "import pandas as pd\n",
    "import numpy as np\n",
    "import matplotlib.pylab as plt\n",
    "%matplotlib inline"
   ]
  },
  {
   "cell_type": "markdown",
   "metadata": {},
   "source": [
    "[Back to top](#top)\n",
    "\n",
    "<br>\n",
    "\n",
    "<a/ id='p1'></a>\n",
    "\n",
    "### (15 points) Problem 1: Theory and Computation (Means and Medians)\n",
    "***\n",
    "\n",
    "A method to investigate the sensitivity of the sample mean and sample median to extreme outliers and changes in the dataset is to replace one or more elements in a given dataset by a number $y$ and investigate the effect when $y$ changes. To illustrate this, consider the following dataset:\n",
    " \n",
    "$$  12.2 \\quad -5.0 \\quad 1.0 \\quad 3.8 \\quad -4.1 \\quad 5.9 \\quad 1.9 \\quad 9.0 \\quad y$$\n",
    "\n",
    "\n"
   ]
  },
  {
   "cell_type": "markdown",
   "metadata": {},
   "source": [
    "**Part A:** Compute the sample mean and sample median for $y=3.5$. Then compute both quantities again for $y=6$."
   ]
  },
  {
   "cell_type": "code",
   "execution_count": 2,
   "metadata": {},
   "outputs": [
    {
     "name": "stdout",
     "output_type": "stream",
     "text": [
      "Mean 1: 3.1333333333333337\n",
      "Mean 2: 3.4111111111111114\n"
     ]
    }
   ],
   "source": [
    "data1 = [12.2, -5.0, 1.0, 3.8, -4.1, 5.9, 1.9, 9.0, 3.5]\n",
    "\n",
    "mean1 = np.mean(data1)\n",
    "print(\"Mean 1:\", mean1)\n",
    "\n",
    "data2 = [12.2, -5.0, 1.0, 3.8, -4.1, 5.9, 1.9, 9.0, 6]\n",
    "\n",
    "mean2 = np.mean(data2)\n",
    "print(\"Mean 2:\", mean2)"
   ]
  },
  {
   "cell_type": "markdown",
   "metadata": {},
   "source": [
    "**Part B:** Is there a value for $y$ that would make the mean of the data equal to 6? If so, calculate the value of $y$ that makes the mean equal to 6. If not, clearly explain why not.\n",
    "    \n",
    "Is there a value for $y$ that would make the median of the data equal to 6? If so, calculate the values of $y$ that makes the median equal to 6. If not, clearly explain why not."
   ]
  },
  {
   "cell_type": "code",
   "execution_count": 3,
   "metadata": {},
   "outputs": [
    {
     "name": "stdout",
     "output_type": "stream",
     "text": [
      "Missing value: 23.299999999999997\n"
     ]
    }
   ],
   "source": [
    "data = [12.2, -5.0, 1.0, 3.8, -4.1, 5.9, 1.9, 9.0]\n",
    "\n",
    "mean = 6\n",
    "\n",
    "totalsum = len(data)*mean\n",
    "datasum = 0\n",
    "for num in data:\n",
    "    datasum += num\n",
    "\n",
    "y = totalsum - datasum\n",
    "\n",
    "print(\"Missing value:\", y)"
   ]
  },
  {
   "cell_type": "markdown",
   "metadata": {},
   "source": [
    "**Part C**: Compute the sample variance and the sample standard deviation for the original dataset given in part A, with $y=6$."
   ]
  },
  {
   "cell_type": "code",
   "execution_count": 4,
   "metadata": {},
   "outputs": [
    {
     "name": "stdout",
     "output_type": "stream",
     "text": [
      "Variance: 28.5320987654321\n",
      "STD: 5.341544604834083\n"
     ]
    }
   ],
   "source": [
    "truedata = [12.2, -5.0, 1.0, 3.8, -4.1, 5.9, 1.9, 9.0, 6]\n",
    "print(\"Variance:\", np.var(truedata))\n",
    "print(\"STD:\", np.std(truedata))"
   ]
  },
  {
   "cell_type": "markdown",
   "metadata": {},
   "source": [
    "**Part D**: Compute both the sample mean and median for the following cases: \n",
    "- $y=9$ \n",
    "- $y=50$ \n",
    "- $y=4.36$ \n",
    "- $y \\to \\infty$ \n",
    "- $y \\to -\\infty$"
   ]
  },
  {
   "cell_type": "code",
   "execution_count": 9,
   "metadata": {},
   "outputs": [
    {
     "name": "stdout",
     "output_type": "stream",
     "text": [
      "Mean: 3.744444444444445\n",
      "Median: 3.8\n",
      "\n",
      "\n",
      "Mean: 8.3\n",
      "Median: 3.8\n",
      "\n",
      "\n",
      "Mean: 3.228888888888889\n",
      "Median: 3.8\n",
      "\n",
      "\n",
      "Mean: inf\n",
      "Median: 3.8\n",
      "\n",
      "\n",
      "Mean: -inf\n",
      "Median: 1.9\n",
      "\n",
      "\n"
     ]
    }
   ],
   "source": [
    "truedata = [12.2, -5.0, 1.0, 3.8, -4.1, 5.9, 1.9, 9.0, 9]\n",
    "print(\"Mean:\", np.mean(truedata))\n",
    "print(\"Median:\", np.median(truedata))\n",
    "print('\\n')\n",
    "\n",
    "truedata = [12.2, -5.0, 1.0, 3.8, -4.1, 5.9, 1.9, 9.0, 50]\n",
    "print(\"Mean:\", np.mean(truedata))\n",
    "print(\"Median:\", np.median(truedata))\n",
    "print('\\n')\n",
    "\n",
    "truedata = [12.2, -5.0, 1.0, 3.8, -4.1, 5.9, 1.9, 9.0, 4.36]\n",
    "print(\"Mean:\", np.mean(truedata))\n",
    "print(\"Median:\", np.median(truedata))\n",
    "print('\\n')\n",
    "\n",
    "truedata = [12.2, -5.0, 1.0, 3.8, -4.1, 5.9, 1.9, 9.0, np.inf]\n",
    "print(\"Mean:\", np.mean(truedata))\n",
    "print(\"Median:\", np.median(truedata))\n",
    "print('\\n')\n",
    "\n",
    "truedata = [12.2, -5.0, 1.0, 3.8, -4.1, 5.9, 1.9, 9.0, np.inf*-1]\n",
    "print(\"Mean:\", np.mean(truedata))\n",
    "print(\"Median:\", np.median(truedata))\n",
    "print('\\n')"
   ]
  },
  {
   "cell_type": "markdown",
   "metadata": {},
   "source": [
    "**Part E**: Think about the previous parts, above, and describe in words or mathematical notation the answers to the following two questions:\n",
    "\n",
    "- By varying $y$, what is the set of all the possible values that the sample mean could take on?\n",
    "- By varying $y$, what is the set of all the possible values that the sample median could take on? Specifically, for what sets of $y$ values does the median take on its different possible values?"
   ]
  },
  {
   "cell_type": "markdown",
   "metadata": {},
   "source": [
    "- mean: [-infinity to infinity]\n",
    "- median: [y, 1.9, 3.8]"
   ]
  },
  {
   "cell_type": "markdown",
   "metadata": {},
   "source": [
    "**Part F**: Describe in words or mathematical notation, what happens to the sample standard deviation when $y$ is varied in the following ways: \n",
    " \n",
    "- $y \\to \\infty$ \n",
    "- $y \\to \\bar{x}$"
   ]
  },
  {
   "cell_type": "code",
   "execution_count": 10,
   "metadata": {},
   "outputs": [
    {
     "name": "stdout",
     "output_type": "stream",
     "text": [
      "Mean: 3.0875000000000004\n",
      "STD: 5.262537938633369\n"
     ]
    }
   ],
   "source": [
    "truedata = [12.2, -5.0, 1.0, 3.8, -4.1, 5.9, 1.9, 9.0,  3.0875000000000004]\n",
    "print(\"Mean:\", np.mean(truedata))\n",
    "print(\"STD:\", np.std(truedata))"
   ]
  },
  {
   "cell_type": "markdown",
   "metadata": {},
   "source": [
    "- STD $\\rightarrow$ infinity\n",
    "- STD $\\rightarrow$ 5.2625"
   ]
  },
  {
   "cell_type": "markdown",
   "metadata": {},
   "source": [
    "[Back to top](#top)\n",
    "<a/ id='p2'></a>\n",
    "\n",
    "## (15 pts) Problem 2: Theory and Computation (Scaling)\n",
    "***\n",
    "Consider the following 3 data sets:\n",
    "\n",
    "`A=[0,1,2,3,4,5,6,7,8,9,10,11,12]`\n",
    "\n",
    "`B=[0,0,0,12,7,18,47,25,0,13,0,35]`\n",
    "\n",
    "`C` is the random data set generated by using `np.random.exponential(scale=43, size=1000)`\n",
    "\n",
    "For each data set, perform the following computations in parts A, B, and C:\n",
    "\n",
    "**Part A:** Compute and print the mean and standard deviation of the data set."
   ]
  },
  {
   "cell_type": "code",
   "execution_count": 11,
   "metadata": {},
   "outputs": [
    {
     "name": "stdout",
     "output_type": "stream",
     "text": [
      "Mean of A: 6.0\n",
      "STD of A: 3.7416573867739413\n",
      "Mean of B: 13.083333333333334\n",
      "STD of B: 14.974747261825675\n",
      "Mean of C: 43.45465833402732\n",
      "STD of C: 42.20030484891801\n"
     ]
    }
   ],
   "source": [
    "A=[0,1,2,3,4,5,6,7,8,9,10,11,12]\n",
    "B=[0,0,0,12,7,18,47,25,0,13,0,35]\n",
    "C=np.random.exponential(scale=43, size=1000)\n",
    "\n",
    "print(\"Mean of A:\", np.mean(A))\n",
    "print(\"STD of A:\", np.std(A))\n",
    "print(\"Mean of B:\", np.mean(B))\n",
    "print(\"STD of B:\", np.std(B))\n",
    "print(\"Mean of C:\", np.mean(C))\n",
    "print(\"STD of C:\", np.std(C))"
   ]
  },
  {
   "cell_type": "markdown",
   "metadata": {},
   "source": [
    "**Part B:** Compute and print  the mean and standard deviation of the new data set formed by subtracting the original mean from each observation."
   ]
  },
  {
   "cell_type": "code",
   "execution_count": 12,
   "metadata": {},
   "outputs": [
    {
     "name": "stdout",
     "output_type": "stream",
     "text": [
      "Mean of A: 0.0\n",
      "STD of A: 3.7416573867739413\n",
      "Mean of B: -1.1842378929335002e-15\n",
      "STD of B: 14.974747261825675\n",
      "Mean of C: 2.5011104298755525e-15\n",
      "STD of C: 42.20030484891801\n"
     ]
    }
   ],
   "source": [
    "Anorm = np.subtract(A, np.mean(A))\n",
    "Bnorm = np.subtract(B, np.mean(B))\n",
    "Cnorm = np.subtract(C, np.mean(C))\n",
    "\n",
    "print(\"Mean of A:\", np.mean(Anorm))\n",
    "print(\"STD of A:\", np.std(Anorm))\n",
    "print(\"Mean of B:\", np.mean(Bnorm))\n",
    "print(\"STD of B:\", np.std(Bnorm))\n",
    "print(\"Mean of C:\", np.mean(Cnorm))\n",
    "print(\"STD of C:\", np.std(Cnorm))"
   ]
  },
  {
   "cell_type": "markdown",
   "metadata": {},
   "source": [
    "**Part C:** Compute and print  the mean and standard deviation of the new data set formed by subtracting the original mean from each observation and then dividing by the original standard deviation."
   ]
  },
  {
   "cell_type": "code",
   "execution_count": 13,
   "metadata": {},
   "outputs": [
    {
     "name": "stdout",
     "output_type": "stream",
     "text": [
      "Mean of A: -5.124106267500723e-17\n",
      "STD of A: 1.0\n",
      "Mean of B: -9.251858538542972e-17\n",
      "STD of B: 1.0\n",
      "Mean of C: 6.394884621840901e-17\n",
      "STD of C: 1.0\n"
     ]
    }
   ],
   "source": [
    "Anormscale = np.divide(Anorm, np.std(A))\n",
    "Bnormscale = np.divide(Bnorm, np.std(B))\n",
    "Cnormscale = np.divide(Cnorm, np.std(C))\n",
    "\n",
    "print(\"Mean of A:\", np.mean(Anormscale))\n",
    "print(\"STD of A:\", np.std(Anormscale))\n",
    "print(\"Mean of B:\", np.mean(Bnormscale))\n",
    "print(\"STD of B:\", np.std(Bnormscale))\n",
    "print(\"Mean of C:\", np.mean(Cnormscale))\n",
    "print(\"STD of C:\", np.std(Cnormscale))"
   ]
  },
  {
   "cell_type": "markdown",
   "metadata": {},
   "source": [
    "**Part D:** Why might this result matter?"
   ]
  },
  {
   "cell_type": "markdown",
   "metadata": {},
   "source": [
    "This is a convenient and easy-to-understand way to normalize our data. Not only have we centered the mean around 0, but we have also scaled it such that the standard deviation is (almost) exactly 1. This can be very important to machine learning applications, or other instances where it may just make sense to plot the data around a baseline average of 0. "
   ]
  },
  {
   "cell_type": "markdown",
   "metadata": {},
   "source": [
    "**Part E:** Looking at each of the 3 data sets, come up with a real-world context where those spectrum of numbers might make for reasonable observations."
   ]
  },
  {
   "cell_type": "markdown",
   "metadata": {},
   "source": [
    "- A: counting the seconds (from start) where a Bluetooth connection is maintained \n",
    "- B: number of students absent in each consecutive class lecture (haha)\n",
    "- C: accelerometer data on the x-axis from an iPhone tumbling down A-basin"
   ]
  },
  {
   "cell_type": "markdown",
   "metadata": {},
   "source": [
    "**Part F:** Let's prove a generalization of the result you likely observed in part B.  What happens if you take data set and \"recenter\" it by adding or subtracting the same number $c$ to each and every observation?\n",
    "\n",
    "In other words, show that the mean of the data set $Y$ given by $Y_i=X_i+c$ is $\\bar{Y}=\\bar{X}+c$.\n",
    "\n",
    "(**Hint**: start with the definition of the mean: $$\\bar{Y}=\\frac{\\sum_{i=1}^n Y_i}{n},$$ then work with the right hand side!)"
   ]
  },
  {
   "cell_type": "markdown",
   "metadata": {},
   "source": [
    "In this case, the sample mean $\\bar{Y}$ would just be moving by $\\frac{c}{n}$ on each iteration through $Y$, a total of $n$ times, and so eventually the difference between the old $\\bar{Y}$ and the new $\\bar{Y}$ would be $c$ once you've parsed the entirety of $Y$. "
   ]
  },
  {
   "cell_type": "markdown",
   "metadata": {},
   "source": [
    "[Back to top](#top)\n",
    "<a/ id='p3'></a>\n",
    "\n",
    "## (15 pts) Problem 3: Computation (Streaming Means)\n",
    "***\n",
    "\n",
    "Data science is often divided into two categories: questions of *what* the best value might be to repreesnt a data problem, and questions of *how* to compute that data value.  Question 1 - and prior lectures - should tell you that computing the mean is valuable!  But *how* do we compute the mean?\n",
    "\n",
    "Let $x_1, x_2, \\ldots, x_n$ be $n$ observations of a variable of interest.  Recall that the sample mean $\\bar{x}_n$ and sample variance $s^2_n$ are given by \n",
    "<a id='eq1'></a>\n",
    "$$\n",
    "\\bar{x}_n = \\frac{1}{n}\\sum_{k=1}^n x_k \\quad \\textrm{and} \\quad s^2_n = \\frac{1}{n-1}\\sum_{k=1}^n \\left( x_k - \\bar{x}_n\\right)^2 \\qquad \\tag{Equation 1}\n",
    "$$"
   ]
  },
  {
   "cell_type": "markdown",
   "metadata": {},
   "source": [
    "**Part A**:\n",
    "\n",
    "How many computations - floating point operations: addition, subtraction, multiplication, division each count as 1 operation - are required to compute the mean of the data set with $n$ observations?\n"
   ]
  },
  {
   "cell_type": "markdown",
   "metadata": {},
   "source": [
    "2n+1\n",
    "\n",
    "On each iter:\n",
    "- add to sum \n",
    "- increment n\n",
    "\n",
    "Once:\n",
    "- divide by n"
   ]
  },
  {
   "cell_type": "markdown",
   "metadata": {},
   "source": [
    "**Part B**:\n",
    "\n",
    "Now suppose our data is *streaming*- we slowly add observations one at a time, instead of seeing the entire data set at once.  We are still interested in the mean, so if we stream the data set `[4,6,0,10, ...]`, we first compute the mean of the the first data point `[4]`, then we recompute the mean of the first two points `[4,6]`, then we recompute the mean of three `[4,6,0]`, and so forth.\n",
    "\n",
    "Suppose we recompute the mean from scratch after each and every one of our $n$ observations are one-by-one added to our data set.  How many floating point operations are spent computing (and re-computing) the mean of the data set?"
   ]
  },
  {
   "cell_type": "markdown",
   "metadata": {},
   "source": [
    "$\\frac{n(n+1)}{2}$"
   ]
  },
  {
   "cell_type": "markdown",
   "metadata": {},
   "source": [
    "We should be convinced that streaming a mean costs a lot more computer time than just computing once!\n",
    "\n",
    "In this problem we explore a smarter method for such an _online_ computation of the mean.  \n",
    "\n",
    "**Result**: The following relation holds between the mean of the first $n-1$ observations and the mean of all $n$ observations: \n",
    "\n",
    "$$\n",
    "\\bar{x}_n = \\bar{x}_{n-1} + \\frac{x_n - \\bar{x}_{n-1}}{n}\n",
    "$$\n",
    "\n",
    "\n",
    "A proof of this result is in the [Appendix](#Appendix) after this problem, and requires some careful manipulations of the sum $\\bar{x}_n$.  Your task will be to computationally verify and utilize this result.\n",
    "\n",
    "**Part C**: Write a function `my_sample_mean` that takes as its input a numpy array and returns the mean of that numpy array using the formulas from class ([Equation 1](#eq1)). Write another function `my_sample_var` that takes as its input a numpy array and returns the variance of that numpy array, again using the formulas from class ([Equation 1](#eq1)). You may **not** use any built-in sample mean or variance functions."
   ]
  },
  {
   "cell_type": "code",
   "execution_count": 14,
   "metadata": {},
   "outputs": [],
   "source": [
    "def my_sample_mean(arr):\n",
    "    sum = 0\n",
    "    \n",
    "    for item in arr:\n",
    "        sum += item\n",
    "        \n",
    "    mean = sum / len(arr)\n",
    "    \n",
    "    return mean\n",
    "\n",
    "def my_sample_var(arr):\n",
    "    mean = my_sample_mean(arr)\n",
    "    \n",
    "    sum = 0\n",
    "    \n",
    "    for item in arr:\n",
    "        sum += (item - mean)**2\n",
    "        \n",
    "    variance = sum / len(arr)-1\n",
    "    \n",
    "    return variance"
   ]
  },
  {
   "cell_type": "markdown",
   "metadata": {},
   "source": [
    "**Part D**: Use your functions from Part C to compute the sample mean and sample variance of the following array, which contains the minutes late that the BuffBus is running on Friday afternoon.\n",
    "\n",
    "`bus = [312, 4, 10, 0, 22, 39, 81, 19, 8, 60, 80, 42]`"
   ]
  },
  {
   "cell_type": "code",
   "execution_count": 15,
   "metadata": {},
   "outputs": [
    {
     "name": "stdout",
     "output_type": "stream",
     "text": [
      "Mean buff-bus-bad: 56.416666666666664\n",
      "Var buff-bus-bad: 6667.409722222222\n"
     ]
    }
   ],
   "source": [
    "bus = [312, 4, 10, 0, 22, 39, 81, 19, 8, 60, 80, 42]\n",
    "\n",
    "print(\"Mean buff-bus-bad:\", my_sample_mean(bus))\n",
    "print(\"Var buff-bus-bad:\", my_sample_var(bus))"
   ]
  },
  {
   "cell_type": "markdown",
   "metadata": {},
   "source": [
    "**Part E**: Implement a third function called `update_mean` that implements the formula discussed after part B. Note that this function will need to take as its input three things: $x_n$, $\\bar{x}_{n-1}$ and $n$, and returns $\\bar{x}_{n}$. A function header and return statement are provided for you. This function may be auto-graded, so please do not change the given header API - the order of inputs matters! If you change it, you might lose points.\n",
    "\n",
    "Use this function to compute the values that you get from taking the mean of the first buff buses' lateness, the first two buff buses' lateness, the first three buff buses' lateness, and so on up to all of the `bus` data points from **Part D**. Store your streaming bus means in a numpy array called `buffbus_bad_means`.  Report all 12 estimates in `buffbus_bad_means`."
   ]
  },
  {
   "cell_type": "code",
   "execution_count": 16,
   "metadata": {},
   "outputs": [
    {
     "name": "stdout",
     "output_type": "stream",
     "text": [
      "[312.0, 158.0, 108.66666666666666, 81.5, 69.6, 64.5, 66.85714285714286, 60.875, 55.0, 55.5, 57.72727272727273, 56.416666666666664]\n"
     ]
    }
   ],
   "source": [
    "# Given API:\n",
    "def update_mean(prev_mean, xn, n):\n",
    "    now_mean = prev_mean + ((xn - prev_mean)/n)\n",
    "    return now_mean\n",
    "\n",
    "buffbus_bad_means = []\n",
    "\n",
    "prev = 0\n",
    "for i in range(len(bus)):\n",
    "    buffbus_bad_means.append(update_mean(prev, bus[i], i+1))\n",
    "    prev = buffbus_bad_means[-1]\n",
    "    \n",
    "print(buffbus_bad_means)"
   ]
  },
  {
   "cell_type": "markdown",
   "metadata": {},
   "source": [
    "<a id='Appendix'></a>\n",
    "\n",
    "## Appendix \n",
    "\n",
    "*Goal*: Prove that \n",
    "$$\n",
    "\\bar{x}_n = \\bar{x}_{n-1} + \\frac{x_n - \\bar{x}_{n-1}}{n}\n",
    "$$\n",
    "\n",
    "Note that you can get an expression for $\\bar{x}_{n-1}$ by simply replacing $n$ in Equation 1 above with $n-1$.\n",
    "\n",
    "We'll start with $\\bar{x}_n$ and massage it until we get the righthand side of the formula\n",
    "\n",
    "\\begin{eqnarray}\n",
    "\\nonumber \\bar{x}_n &=& \\frac{1}{n} \\sum_{k=1}^n x_k \\\\\n",
    "&=& \\frac{1}{n} \\sum_{k=1}^{n-1} x_k + \\frac{1}{n}x_n \\\\\n",
    "&=& \\frac{n-1}{n-1}\\frac{1}{n} \\sum_{k=1}^{n-1} x_k + \\frac{1}{n}x_n \\\\\n",
    "&=& \\frac{n-1}{n} \\left(\\frac{1}{n-1} \\sum_{k=1}^{n-1} x_k\\right) + \\frac{1}{n}x_n \\\\\n",
    "&=& \\frac{n-1}{n} \\bar{x}_{n-1} + \\frac{1}{n}x_n \\\\\n",
    "&=& \\frac{n}{n}\\bar{x}_{n-1} - \\frac{1}{n}\\bar{x}_{n-1} + \\frac{1}{n}x_n \\\\\n",
    "&=&  \\bar{x}_{n-1} + \\frac{x_n - \\bar{x}_{n-1}}{n} \\quad \\checkmark\n",
    "\\end{eqnarray}\n",
    "\n"
   ]
  },
  {
   "cell_type": "code",
   "execution_count": null,
   "metadata": {},
   "outputs": [],
   "source": []
  }
 ],
 "metadata": {
  "kernelspec": {
   "display_name": "Python 3",
   "language": "python",
   "name": "python3"
  },
  "language_info": {
   "codemirror_mode": {
    "name": "ipython",
    "version": 3
   },
   "file_extension": ".py",
   "mimetype": "text/x-python",
   "name": "python",
   "nbconvert_exporter": "python",
   "pygments_lexer": "ipython3",
   "version": "3.8.5"
  }
 },
 "nbformat": 4,
 "nbformat_minor": 4
}
