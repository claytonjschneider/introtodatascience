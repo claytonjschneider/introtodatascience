{
 "cells": [
  {
   "cell_type": "markdown",
   "metadata": {},
   "source": [
    "<a id='top'></a>\n",
    "\n",
    "# CSCI3022 S21\n",
    "# Homework 7: Regression Practice\n",
    "***\n",
    "\n",
    "**Name**: Clayton Schneider\n",
    "\n",
    "***\n",
    "\n",
    "This assignment is due on Canvas by **MIDNIGHT on Friday, April 22**. Your solutions to theoretical questions should be done in Markdown directly below the associated question.  Your solutions to computational questions should include any specified Python code and results as well as written commentary on your conclusions.  Remember that you are encouraged to discuss the problems with your classmates, but **you must write all code and solutions on your own**.\n",
    "\n",
    "**NOTES**: \n",
    "\n",
    "- Any relevant data sets should be available on Canvas. To make life easier on the graders if they need to run your code, do not change the relative path names here. Instead, move the files around on your computer.\n",
    "- If you're not familiar with typesetting math directly into Markdown then by all means, do your work on paper first and then typeset it later.  Here is a [reference guide](https://math.meta.stackexchange.com/questions/5020/mathjax-basic-tutorial-and-quick-reference) linked on Canvas on writing math in Markdown. **All** of your written commentary, justifications and mathematical work should be in Markdown.  I also recommend the [wikibook](https://en.wikibooks.org/wiki/LaTeX) for LaTex.\n",
    "- Because you can technically evaluate notebook cells is a non-linear order, it's a good idea to do **Kernel $\\rightarrow$ Restart & Run All** as a check before submitting your solutions.  That way if we need to run your code you will know that it will work as expected. \n",
    "- It is **bad form** to make your reader interpret numerical output from your code.  If a question asks you to compute some value from the data you should show your code output **AND** write a summary of the results in Markdown directly below your code. \n",
    "- 45 points of this assignment are in problems.  The remaining 5 are for neatness, style, and overall exposition of both code and text.\n",
    "- This probably goes without saying, but... For any question that asks you to calculate something, you **must show all work and justify your answers to receive credit**. Sparse or nonexistent work will receive sparse or nonexistent credit. \n",
    "\n",
    "---\n",
    "**Shortcuts:**  [Data Set 1](#p1) | [Data Set 2](#p2) | [Data Set 3](#p3) |  [Data Set 4](#p4) |\n",
    "---"
   ]
  },
  {
   "cell_type": "code",
   "execution_count": 1,
   "metadata": {},
   "outputs": [],
   "source": [
    "#old salwarts\n",
    "import pandas as pd\n",
    "import numpy as np\n",
    "import matplotlib.pylab as plt\n",
    "import scipy.stats as stats\n",
    "%matplotlib inline\n",
    "\n",
    "#new friends\n",
    "import seaborn as sns\n",
    "import statsmodels.api as sm #this line is now always in our opener\n",
    "from statsmodels.stats.outliers_influence import summary_table\n",
    "from patsy import dmatrices # for making design matrices out of categorical features #instead of sm.add_constant\n"
   ]
  },
  {
   "cell_type": "markdown",
   "metadata": {},
   "source": [
    "## [All problems: 11 points/ea]\n",
    "**Shortcuts:**  [1](#p1) | [2](#p2) | [3](#p3) | [4](#p4) |\n",
    "\n",
    "\n",
    "Run the cell below to load in the data set known as \"Anscombe's Quartet.\"  It contains 4 data sets, each with its own set of $x$ and $y$ values.\n",
    "\n",
    "\n",
    "Each data set has exactly 11 observations.  For each data set, you will perform the same steps of visualizing and fitting a linear model."
   ]
  },
  {
   "cell_type": "code",
   "execution_count": 2,
   "metadata": {},
   "outputs": [
    {
     "name": "stdout",
     "output_type": "stream",
     "text": [
      "  dataset     x     y\n",
      "0       I  10.0  8.04\n",
      "1       I   8.0  6.95\n",
      "2       I  13.0  7.58\n",
      "3       I   9.0  8.81\n",
      "4       I  11.0  8.33\n"
     ]
    },
    {
     "data": {
      "text/plain": [
       "array(['I', 'II', 'III', 'IV'], dtype=object)"
      ]
     },
     "execution_count": 2,
     "metadata": {},
     "output_type": "execute_result"
    }
   ],
   "source": [
    "df = sns.load_dataset(\"anscombe\")\n",
    "\n",
    "print(df.head())\n",
    "df['dataset'].unique()"
   ]
  },
  {
   "cell_type": "markdown",
   "metadata": {},
   "source": [
    "<br>\n",
    "\n",
    "---\n",
    "<a/ id='p1'></a>\n",
    "[Back to top](#top)\n",
    "## [25 points] Data Set 1\n",
    "\n",
    "For the data set marked with \"I\" in the given data frame,  perform a regression analysis.  Use markdown to clearly mark each step.\n",
    "\n",
    "\n",
    "#### Part A: Make a scatter plot of the data set and overlay the line of best least-squares fit.  Print the summary table, and write the final model in a markdown cell."
   ]
  },
  {
   "cell_type": "code",
   "execution_count": 100,
   "metadata": {},
   "outputs": [],
   "source": [
    "def scatter_line_summary(x, y, title=\"\"):\n",
    "    plt.cla()\n",
    "    \n",
    "    # plot scatter of data\n",
    "    plt.scatter(x, y, label=\"Data\")\n",
    "    \n",
    "    # regression model\n",
    "    X = sm.add_constant(x) # add constant\n",
    "    model = sm.OLS(y, X) # create OLS model\n",
    "    results = model.fit() # fit model\n",
    "#     fig = sm.graphics.plot_fit(results, 0, ax=ax) # plot line of best fit\n",
    "    \n",
    "    bs = results.params\n",
    "\n",
    "    plt.plot(x, bs[1]*x + bs[0], 'r', label=\"OLS\")\n",
    "    \n",
    "    # Print model summary \n",
    "    print(results.summary())\n",
    "    \n",
    "    plt.xlabel(\"Independent Variable\")\n",
    "    plt.ylabel(\"Dependent Variable\")\n",
    "    plt.legend()\n",
    "    \n",
    "    plt.show()\n",
    "    \n",
    "    return model, results"
   ]
  },
  {
   "cell_type": "code",
   "execution_count": 101,
   "metadata": {},
   "outputs": [
    {
     "name": "stdout",
     "output_type": "stream",
     "text": [
      "                            OLS Regression Results                            \n",
      "==============================================================================\n",
      "Dep. Variable:                      y   R-squared:                       0.667\n",
      "Model:                            OLS   Adj. R-squared:                  0.629\n",
      "Method:                 Least Squares   F-statistic:                     17.99\n",
      "Date:                Fri, 23 Apr 2021   Prob (F-statistic):            0.00217\n",
      "Time:                        20:08:29   Log-Likelihood:                -16.841\n",
      "No. Observations:                  11   AIC:                             37.68\n",
      "Df Residuals:                       9   BIC:                             38.48\n",
      "Df Model:                           1                                         \n",
      "Covariance Type:            nonrobust                                         \n",
      "==============================================================================\n",
      "                 coef    std err          t      P>|t|      [0.025      0.975]\n",
      "------------------------------------------------------------------------------\n",
      "const          3.0001      1.125      2.667      0.026       0.456       5.544\n",
      "x              0.5001      0.118      4.241      0.002       0.233       0.767\n",
      "==============================================================================\n",
      "Omnibus:                        0.082   Durbin-Watson:                   3.212\n",
      "Prob(Omnibus):                  0.960   Jarque-Bera (JB):                0.289\n",
      "Skew:                          -0.122   Prob(JB):                        0.865\n",
      "Kurtosis:                       2.244   Cond. No.                         29.1\n",
      "==============================================================================\n",
      "\n",
      "Notes:\n",
      "[1] Standard Errors assume that the covariance matrix of the errors is correctly specified.\n"
     ]
    },
    {
     "name": "stderr",
     "output_type": "stream",
     "text": [
      "/home/clayton/.local/lib/python3.7/site-packages/scipy/stats/stats.py:1535: UserWarning: kurtosistest only valid for n>=20 ... continuing anyway, n=11\n",
      "  \"anyway, n=%i\" % int(n))\n"
     ]
    },
    {
     "data": {
      "image/png": "[encoded data removed]",
      "text/plain": [
       "<Figure size 432x288 with 1 Axes>"
      ]
     },
     "metadata": {
      "needs_background": "light"
     },
     "output_type": "display_data"
    }
   ],
   "source": [
    "x = df[df['dataset']=='I']['x']\n",
    "y = df[df['dataset']=='I']['y']\n",
    "\n",
    "model, results = scatter_line_summary(x, y, title=\"Dataset I\")"
   ]
  },
  {
   "cell_type": "markdown",
   "metadata": {},
   "source": [
    "\n",
    "#### Part B: Make a scatter plot where the original x-values are the x-axis and the residuals of the line of best least-squares fit are the y-axis."
   ]
  },
  {
   "cell_type": "code",
   "execution_count": 110,
   "metadata": {},
   "outputs": [
    {
     "data": {
      "text/plain": [
       "Text(0, 0.5, 'Residuals of OLS Model')"
      ]
     },
     "execution_count": 110,
     "metadata": {},
     "output_type": "execute_result"
    },
    {
     "data": {
      "image/png": "[encoded data removed]",
      "text/plain": [
       "<Figure size 432x288 with 1 Axes>"
      ]
     },
     "metadata": {
      "needs_background": "light"
     },
     "output_type": "display_data"
    }
   ],
   "source": [
    "plt.scatter(x, results.resid)\n",
    "\n",
    "plt.xlabel(\"Fitted Value\")\n",
    "plt.ylabel(\"Residuals of OLS Model\")"
   ]
  },
  {
   "cell_type": "markdown",
   "metadata": {},
   "source": [
    "\n",
    "#### Part C: For each of the 4 major assumptions of the simple linear regression model, use your plots in parts A and B to decide whether or not the data set meets those assumptions."
   ]
  },
  {
   "cell_type": "markdown",
   "metadata": {},
   "source": [
    "1) Linear relationship: There likely exists a linear relationship between the variables, as evidenced by the scatter plot\n",
    "\n",
    "2) Independence: There is no visible relationship among the residuals, and so this criteria too is met\n",
    "\n",
    "3) Homoscedasticity: It again appears to be met for this dataset. If it were not, we would likely see a more pronounced trend (cone?) of some sort in the residuals' plot.\n",
    "\n",
    "4) Normality: We've not demonstrated this entirely (nor 3?) for the dataset through the plots above... (I accidentally did a Q-Q plot because I misread part B at first, and I'm comfortable saying that normality is met. "
   ]
  },
  {
   "cell_type": "markdown",
   "metadata": {},
   "source": [
    "\n",
    "#### Part D: If the data set violated any assumptions in part C, adjust the model accordingly if possible.  Consider removing outliers, adding higher order polynomial terms, etc.  If you adjust the model, make another set of plots as in parts A and B of the new fit and the new residuals."
   ]
  },
  {
   "cell_type": "code",
   "execution_count": null,
   "metadata": {},
   "outputs": [],
   "source": []
  },
  {
   "cell_type": "markdown",
   "metadata": {},
   "source": [
    "\n",
    "#### Part E: Write a sentence or two describing your thought process above.  If you did not adjust a model, why not?  If you did, what are the effects?"
   ]
  },
  {
   "cell_type": "markdown",
   "metadata": {},
   "source": [
    "All of the criteria were met. No datapoint in particular seemed to be an outlier, and with such a small n, I really don't want to pop anything off the data. "
   ]
  },
  {
   "cell_type": "markdown",
   "metadata": {},
   "source": [
    "<br>\n",
    "\n",
    "---\n",
    "<a/ id='p2'></a>\n",
    "[Back to top](#top)\n",
    "## [25 points] Data Set 2\n",
    "\n",
    "For the data set marked with \"II\" in the given data frame,  perform a regression analysis.  Use markdown to clearly mark each step.\n",
    "\n",
    "\n",
    "#### Part A: Make a scatter plot of the data set and overlay the line of best least-squares fit.  Print the summary table, and write the final model in a markdown cell."
   ]
  },
  {
   "cell_type": "code",
   "execution_count": 111,
   "metadata": {},
   "outputs": [
    {
     "name": "stdout",
     "output_type": "stream",
     "text": [
      "                            OLS Regression Results                            \n",
      "==============================================================================\n",
      "Dep. Variable:                      y   R-squared:                       0.666\n",
      "Model:                            OLS   Adj. R-squared:                  0.629\n",
      "Method:                 Least Squares   F-statistic:                     17.97\n",
      "Date:                Fri, 23 Apr 2021   Prob (F-statistic):            0.00218\n",
      "Time:                        20:36:32   Log-Likelihood:                -16.846\n",
      "No. Observations:                  11   AIC:                             37.69\n",
      "Df Residuals:                       9   BIC:                             38.49\n",
      "Df Model:                           1                                         \n",
      "Covariance Type:            nonrobust                                         \n",
      "==============================================================================\n",
      "                 coef    std err          t      P>|t|      [0.025      0.975]\n",
      "------------------------------------------------------------------------------\n",
      "const          3.0009      1.125      2.667      0.026       0.455       5.547\n",
      "x              0.5000      0.118      4.239      0.002       0.233       0.767\n",
      "==============================================================================\n",
      "Omnibus:                        1.594   Durbin-Watson:                   2.188\n",
      "Prob(Omnibus):                  0.451   Jarque-Bera (JB):                1.108\n",
      "Skew:                          -0.567   Prob(JB):                        0.575\n",
      "Kurtosis:                       1.936   Cond. No.                         29.1\n",
      "==============================================================================\n",
      "\n",
      "Notes:\n",
      "[1] Standard Errors assume that the covariance matrix of the errors is correctly specified.\n"
     ]
    },
    {
     "name": "stderr",
     "output_type": "stream",
     "text": [
      "/home/clayton/.local/lib/python3.7/site-packages/scipy/stats/stats.py:1535: UserWarning: kurtosistest only valid for n>=20 ... continuing anyway, n=11\n",
      "  \"anyway, n=%i\" % int(n))\n"
     ]
    },
    {
     "data": {
      "image/png": "[encoded data removed]",
      "text/plain": [
       "<Figure size 432x288 with 1 Axes>"
      ]
     },
     "metadata": {
      "needs_background": "light"
     },
     "output_type": "display_data"
    }
   ],
   "source": [
    "x = df[df['dataset']=='II']['x']\n",
    "y = df[df['dataset']=='II']['y']\n",
    "\n",
    "model, results = scatter_line_summary(x, y, title=\"Dataset II\")"
   ]
  },
  {
   "cell_type": "markdown",
   "metadata": {},
   "source": [
    "\n",
    "#### Part B: Make a scatter plot where the original x-values are the x-axis and the residuals of the line of best least-squares fit are the y-axis."
   ]
  },
  {
   "cell_type": "code",
   "execution_count": 112,
   "metadata": {},
   "outputs": [
    {
     "data": {
      "text/plain": [
       "Text(0, 0.5, 'Residuals of OLS Model')"
      ]
     },
     "execution_count": 112,
     "metadata": {},
     "output_type": "execute_result"
    },
    {
     "data": {
      "image/png": "[encoded data removed]",
      "text/plain": [
       "<Figure size 432x288 with 1 Axes>"
      ]
     },
     "metadata": {
      "needs_background": "light"
     },
     "output_type": "display_data"
    }
   ],
   "source": [
    "plt.scatter(x, results.resid)\n",
    "\n",
    "plt.xlabel(\"Fitted Value\")\n",
    "plt.ylabel(\"Residuals of OLS Model\")"
   ]
  },
  {
   "cell_type": "markdown",
   "metadata": {},
   "source": [
    "\n",
    "#### Part C: For each of the 4 major assumptions of the simple linear regression model, use your plots in parts A and B to decide whether or not the data set meets those assumptions."
   ]
  },
  {
   "cell_type": "markdown",
   "metadata": {},
   "source": [
    "HAHA no!\n",
    "\n",
    "1) Linearity: Nope - that's just not linear. It just isn't. \n",
    "\n",
    "2) Independence: No - there is a pattern among the \n",
    "\n",
    "3) Homoscedasticity: No - this doesn't _seem_ to be met either... But I'm not certain about this one. I believe that the assumption is violated because the variance is accounted for differently through different parts of the original sequence. \n",
    "\n",
    "4) Normality: Doesn't seem to be violated. "
   ]
  },
  {
   "cell_type": "markdown",
   "metadata": {},
   "source": [
    "\n",
    "#### Part D: If the data set violated any assumptions in part C, adjust the model accordingly if possible.  Consider removing outliers, adding higher order polynomial terms, etc.  If you adjust the model, make another set of plots as in parts A and B of the new fit and the new residuals."
   ]
  },
  {
   "cell_type": "code",
   "execution_count": null,
   "metadata": {},
   "outputs": [],
   "source": []
  },
  {
   "cell_type": "markdown",
   "metadata": {},
   "source": [
    "\n",
    "#### Part E: Write a sentence or two describing your thought process above.  If you did not adjust a model, why not?  If you did, what are the effects?"
   ]
  },
  {
   "cell_type": "markdown",
   "metadata": {},
   "source": []
  },
  {
   "cell_type": "markdown",
   "metadata": {},
   "source": [
    "<br>\n",
    "\n",
    "---\n",
    "<a/ id='p3'></a>\n",
    "[Back to top](#top)\n",
    "## [25 points] Data Set 3\n",
    "\n",
    "For the data set marked with \"III\" in the given data frame,  perform a regression analysis.  Use markdown to clearly mark each step.\n",
    "\n",
    "\n",
    "#### Part A: Make a scatter plot of the data set and overlay the line of best least-squares fit.  Print the summary table, and write the final model in a markdown cell."
   ]
  },
  {
   "cell_type": "code",
   "execution_count": null,
   "metadata": {},
   "outputs": [],
   "source": []
  },
  {
   "cell_type": "markdown",
   "metadata": {},
   "source": [
    "\n",
    "#### Part B: Make a scatter plot where the original x-values are the x-axis and the residuals of the line of best least-squares fit are the y-axis."
   ]
  },
  {
   "cell_type": "code",
   "execution_count": null,
   "metadata": {},
   "outputs": [],
   "source": []
  },
  {
   "cell_type": "markdown",
   "metadata": {},
   "source": [
    "\n",
    "#### Part C: For each of the 4 major assumptions of the simple linear regression model, use your plots in parts A and B to decide whether or not the data set meets those assumptions."
   ]
  },
  {
   "cell_type": "code",
   "execution_count": null,
   "metadata": {},
   "outputs": [],
   "source": []
  },
  {
   "cell_type": "markdown",
   "metadata": {},
   "source": [
    "\n",
    "#### Part D: If the data set violated any assumptions in part C, adjust the model accordingly if possible.  Consider removing outliers, adding higher order polynomial terms, etc.  If you adjust the model, make another set of plots as in parts A and B of the new fit and the new residuals."
   ]
  },
  {
   "cell_type": "code",
   "execution_count": null,
   "metadata": {},
   "outputs": [],
   "source": []
  },
  {
   "cell_type": "markdown",
   "metadata": {},
   "source": [
    "\n",
    "#### Part E: Write a sentence or two describing your thought process above.  If you did not adjust a model, why not?  If you did, what are the effects?"
   ]
  },
  {
   "cell_type": "markdown",
   "metadata": {},
   "source": []
  },
  {
   "cell_type": "markdown",
   "metadata": {},
   "source": [
    "<br>\n",
    "\n",
    "---\n",
    "<a/ id='p4'></a>\n",
    "[Back to top](#top)\n",
    "## [25 points] Data Set 4\n",
    "\n",
    "For the data set marked with \"IV\" in the given data frame, perform a regression analysis.  Use markdown to clearly mark each step.\n",
    "\n",
    "\n",
    "#### Part A: Make a scatter plot of the data set and overlay the line of best least-squares fit.  Print the summary table, and write the final model in a markdown cell."
   ]
  },
  {
   "cell_type": "code",
   "execution_count": null,
   "metadata": {},
   "outputs": [],
   "source": []
  },
  {
   "cell_type": "markdown",
   "metadata": {},
   "source": [
    "\n",
    "#### Part B: Make a scatter plot where the original x-values are the x-axis and the residuals of the line of best least-squares fit are the y-axis."
   ]
  },
  {
   "cell_type": "code",
   "execution_count": null,
   "metadata": {},
   "outputs": [],
   "source": []
  },
  {
   "cell_type": "markdown",
   "metadata": {},
   "source": [
    "\n",
    "#### Part C: For each of the 4 major assumptions of the simple linear regression model, use your plots in parts A and B to decide whether or not the data set meets those assumptions."
   ]
  },
  {
   "cell_type": "code",
   "execution_count": null,
   "metadata": {},
   "outputs": [],
   "source": []
  },
  {
   "cell_type": "markdown",
   "metadata": {},
   "source": [
    "\n",
    "#### Part D: If the data set violated any assumptions in part C, adjust the model accordingly if possible.  Consider removing outliers, adding higher order polynomial terms, etc.  If you adjust the model, make another set of plots as in parts A and B of the new fit and the new residuals."
   ]
  },
  {
   "cell_type": "code",
   "execution_count": null,
   "metadata": {},
   "outputs": [],
   "source": []
  },
  {
   "cell_type": "markdown",
   "metadata": {},
   "source": [
    "\n",
    "#### Part E: Write a sentence or two describing your thought process above.  If you did not adjust a model, why not?  If you did, what are the effects?"
   ]
  },
  {
   "cell_type": "markdown",
   "metadata": {},
   "source": []
  }
 ],
 "metadata": {
  "kernelspec": {
   "display_name": "Python 3",
   "language": "python",
   "name": "python3"
  },
  "language_info": {
   "codemirror_mode": {
    "name": "ipython",
    "version": 3
   },
   "file_extension": ".py",
   "mimetype": "text/x-python",
   "name": "python",
   "nbconvert_exporter": "python",
   "pygments_lexer": "ipython3",
   "version": "3.7.3"
  }
 },
 "nbformat": 4,
 "nbformat_minor": 4
}
